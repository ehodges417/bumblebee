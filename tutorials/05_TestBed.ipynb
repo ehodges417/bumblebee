{
 "cells": [
  {
   "cell_type": "markdown",
   "id": "simplified-concrete",
   "metadata": {},
   "source": [
    "# Test Bed Assembly"
   ]
  },
  {
   "cell_type": "code",
   "execution_count": 1,
   "id": "danish-convergence",
   "metadata": {},
   "outputs": [],
   "source": [
    "import bumblebee as bb"
   ]
  },
  {
   "cell_type": "markdown",
   "id": "scenic-kitchen",
   "metadata": {},
   "source": [
    "First create an empty coordinate system using bumblebee.CSYS, set the axis limits to contain the full figure."
   ]
  },
  {
   "cell_type": "code",
   "execution_count": 2,
   "id": "other-function",
   "metadata": {},
   "outputs": [
    {
     "data": {
      "application/vnd.jupyter.widget-view+json": {
       "model_id": "c1f9fadcf5cd4c1887154c36387105ce",
       "version_major": 2,
       "version_minor": 0
      },
      "text/plain": [
       "HBox(children=(Tree(nodes=(Frame(icon='crosshairs', name='Origin', nodes=(Axis(icon='line', name='x-axis', ope…"
      ]
     },
     "metadata": {},
     "output_type": "display_data"
    }
   ],
   "source": [
    "assm = bb.CSYS()\n",
    "assm.ax.set_xlim([-20,20])\n",
    "assm.ax.set_ylim([-20,20])\n",
    "assm.ax.set_zlim([-10,15])\n",
    "assm.plot()"
   ]
  },
  {
   "cell_type": "markdown",
   "id": "compliant-cartridge",
   "metadata": {},
   "source": [
    "Bring in the stewart platform"
   ]
  },
  {
   "cell_type": "code",
   "execution_count": 3,
   "id": "packed-biology",
   "metadata": {},
   "outputs": [],
   "source": [
    "stewart = bb.RigidCollection.from_json('StewartAssm.json')"
   ]
  },
  {
   "cell_type": "code",
   "execution_count": 4,
   "id": "incorporated-stomach",
   "metadata": {},
   "outputs": [],
   "source": [
    "assm.add(stewart)"
   ]
  },
  {
   "cell_type": "markdown",
   "id": "basic-outreach",
   "metadata": {},
   "source": [
    "Add the gantry, rotate and position above the top plate"
   ]
  },
  {
   "cell_type": "code",
   "execution_count": 5,
   "id": "express-sally",
   "metadata": {},
   "outputs": [],
   "source": [
    "gantry = bb.RigidBody(r\"C:\\Users\\Elijah\\Documents\\PrinterAssembly\\Stewart\\LowPoly\\Gantry.stl\", name=\"Gantry\", units='cm')"
   ]
  },
  {
   "cell_type": "code",
   "execution_count": 6,
   "id": "greater-thousand",
   "metadata": {},
   "outputs": [],
   "source": [
    "assm.add(gantry)"
   ]
  },
  {
   "cell_type": "code",
   "execution_count": 7,
   "id": "fancy-subscriber",
   "metadata": {},
   "outputs": [],
   "source": [
    "gantry.rotate_from_euler('x', 90, degrees=True)"
   ]
  },
  {
   "cell_type": "code",
   "execution_count": 8,
   "id": "enormous-ideal",
   "metadata": {},
   "outputs": [],
   "source": [
    "gantry.rotate_from_euler('z', 90, degrees=True)"
   ]
  },
  {
   "cell_type": "code",
   "execution_count": 9,
   "id": "answering-irish",
   "metadata": {},
   "outputs": [],
   "source": [
    "gantry.translate([0,0,15])"
   ]
  },
  {
   "cell_type": "markdown",
   "id": "suited-pizza",
   "metadata": {},
   "source": [
    "Add the arm, position in the gantry"
   ]
  },
  {
   "cell_type": "code",
   "execution_count": 10,
   "id": "regulation-occasion",
   "metadata": {},
   "outputs": [],
   "source": [
    "arm = bb.RigidBody(r\"C:\\Users\\Elijah\\Documents\\PrinterAssembly\\Stewart\\LowPoly\\Arm.stl\", name=\"Arm\", units='cm')"
   ]
  },
  {
   "cell_type": "code",
   "execution_count": 11,
   "id": "twelve-apparatus",
   "metadata": {},
   "outputs": [],
   "source": [
    "assm.add(arm)"
   ]
  },
  {
   "cell_type": "code",
   "execution_count": 12,
   "id": "molecular-plate",
   "metadata": {},
   "outputs": [],
   "source": [
    "arm.translate([0,0,15+6.25+2])"
   ]
  },
  {
   "cell_type": "markdown",
   "id": "pleased-uzbekistan",
   "metadata": {},
   "source": [
    "Notice that the stewart platform is facing the wrong direction relative to the gantry, rotate it"
   ]
  },
  {
   "cell_type": "code",
   "execution_count": 13,
   "id": "czech-philip",
   "metadata": {},
   "outputs": [],
   "source": [
    "stewart.rotate_from_euler('z', 90, degrees=True)"
   ]
  },
  {
   "cell_type": "markdown",
   "id": "copyrighted-appreciation",
   "metadata": {},
   "source": [
    "Group as an assembly and save for later use"
   ]
  },
  {
   "cell_type": "code",
   "execution_count": 14,
   "id": "intended-uruguay",
   "metadata": {},
   "outputs": [],
   "source": [
    "slide_assm = bb.RigidCollection(name='SlideAssm')\n",
    "slide_assm.add(stewart)\n",
    "slide_assm.add(gantry)\n",
    "slide_assm.to_json('SlideAssm')\n",
    "\n",
    "tb_assm = bb.RigidCollection(name='TestBedAssm')\n",
    "tb_assm.add(slide_assm)\n",
    "tb_assm.add(arm)\n",
    "tb_assm.to_json('TestBedAssm')"
   ]
  },
  {
   "cell_type": "code",
   "execution_count": null,
   "id": "stuffed-starter",
   "metadata": {},
   "outputs": [],
   "source": []
  }
 ],
 "metadata": {
  "kernelspec": {
   "display_name": "bumblebee-dev",
   "language": "python",
   "name": "bumblebee-dev"
  },
  "language_info": {
   "codemirror_mode": {
    "name": "ipython",
    "version": 3
   },
   "file_extension": ".py",
   "mimetype": "text/x-python",
   "name": "python",
   "nbconvert_exporter": "python",
   "pygments_lexer": "ipython3",
   "version": "3.7.9"
  }
 },
 "nbformat": 4,
 "nbformat_minor": 5
}

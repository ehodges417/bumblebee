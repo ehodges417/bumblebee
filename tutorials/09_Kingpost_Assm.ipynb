{
 "cells": [
  {
   "cell_type": "markdown",
   "id": "filled-carry",
   "metadata": {},
   "source": [
    "# Kingpost Assembly"
   ]
  },
  {
   "cell_type": "markdown",
   "id": "retained-device",
   "metadata": {},
   "source": [
    "Use CSYS to create a scene"
   ]
  },
  {
   "cell_type": "code",
   "execution_count": 1,
   "id": "attractive-orbit",
   "metadata": {},
   "outputs": [],
   "source": [
    "import bumblebee as bb"
   ]
  },
  {
   "cell_type": "code",
   "execution_count": 2,
   "id": "figured-engine",
   "metadata": {},
   "outputs": [
    {
     "data": {
      "application/vnd.jupyter.widget-view+json": {
       "model_id": "8b1373a2d16f4a2ab559824110df223a",
       "version_major": 2,
       "version_minor": 0
      },
      "text/plain": [
       "HBox(children=(Tree(nodes=(Frame(icon='crosshairs', name='Origin', nodes=(Axis(icon='line', name='x-axis', ope…"
      ]
     },
     "metadata": {},
     "output_type": "display_data"
    }
   ],
   "source": [
    "assm = bb.CSYS()\n",
    "def home_view():\n",
    "    assm.ax.set_xlim([-10, 10])\n",
    "    assm.ax.set_ylim([-10, 10])\n",
    "    assm.ax.set_zlim([-10,10])\n",
    "home_view()\n",
    "assm.plot()"
   ]
  },
  {
   "cell_type": "markdown",
   "id": "furnished-tenant",
   "metadata": {},
   "source": [
    "Add the kingpost to the scene"
   ]
  },
  {
   "cell_type": "code",
   "execution_count": 3,
   "id": "corresponding-tattoo",
   "metadata": {},
   "outputs": [],
   "source": [
    "kingpost = bb.RigidBody(r\"C:\\Users\\Elijah\\Documents\\PrinterAssembly\\LowPoly\\kingpost.stl\", name=\"Kingpost\", units='cm')\n",
    "assm.add(kingpost)"
   ]
  },
  {
   "cell_type": "markdown",
   "id": "dress-release",
   "metadata": {},
   "source": [
    "Add the shoulder to the scene"
   ]
  },
  {
   "cell_type": "code",
   "execution_count": 4,
   "id": "crazy-allergy",
   "metadata": {},
   "outputs": [],
   "source": [
    "shoulder = bb.RigidBody(r\"C:\\Users\\Elijah\\Documents\\PrinterAssembly\\LowPoly\\kingpost_shoulder.stl\", name=\"KingpostShoulder\", units='cm')\n",
    "assm.add(shoulder)\n",
    "shoulder.rotate_from_euler('y', 90, degrees=True)\n",
    "shoulder.rotate_from_euler('z', 180, degrees=True)\n",
    "shoulder.translate([0,0,140.387])"
   ]
  },
  {
   "cell_type": "markdown",
   "id": "fresh-swift",
   "metadata": {},
   "source": [
    "Check that everything looks right"
   ]
  },
  {
   "cell_type": "code",
   "execution_count": 5,
   "id": "listed-telephone",
   "metadata": {},
   "outputs": [],
   "source": [
    "def end_view():\n",
    "    assm.ax.set_xlim([-10, 10])\n",
    "    assm.ax.set_ylim([-10, 10])\n",
    "    assm.ax.set_zlim([130,150])\n",
    "    \n",
    "end_view()"
   ]
  },
  {
   "cell_type": "markdown",
   "id": "treated-pierre",
   "metadata": {},
   "source": [
    "Add frames representing the joint, and end of the link to be used in kinematic calcs"
   ]
  },
  {
   "cell_type": "code",
   "execution_count": 6,
   "id": "nasty-major",
   "metadata": {},
   "outputs": [],
   "source": [
    "joint = bb.Frame(name='Joint') #this one is just at origin\n",
    "assm.add(joint)"
   ]
  },
  {
   "cell_type": "code",
   "execution_count": 7,
   "id": "figured-undergraduate",
   "metadata": {},
   "outputs": [],
   "source": [
    "M = bb.Frame(name='M_pose')\n",
    "assm.add(M)\n",
    "M.translate([0,-0.785,140.387+5.75])"
   ]
  },
  {
   "cell_type": "code",
   "execution_count": 8,
   "id": "impossible-battle",
   "metadata": {},
   "outputs": [],
   "source": [
    "home_view()"
   ]
  },
  {
   "cell_type": "code",
   "execution_count": 9,
   "id": "complete-circumstances",
   "metadata": {},
   "outputs": [],
   "source": [
    "base = bb.RigidBody(r\"C:\\Users\\Elijah\\Documents\\PrinterAssembly\\LowPoly\\KingpostBase.stl\", name=\"KingpostBase\", units='cm')\n",
    "assm.add(base)"
   ]
  },
  {
   "cell_type": "code",
   "execution_count": 10,
   "id": "clear-bearing",
   "metadata": {},
   "outputs": [],
   "source": [
    "base.rotate_from_euler('xz', [90,-90], degrees=True)"
   ]
  },
  {
   "cell_type": "code",
   "execution_count": 11,
   "id": "happy-compact",
   "metadata": {},
   "outputs": [],
   "source": [
    "base.translate([0,0,-12])"
   ]
  },
  {
   "cell_type": "code",
   "execution_count": 12,
   "id": "prescription-discrimination",
   "metadata": {},
   "outputs": [],
   "source": [
    "forearm_hoist = bb.Frame(name='ForearmHoist')\n",
    "assm.add(forearm_hoist)\n",
    "forearm_hoist.translate([0,-9.375+2,6-12])"
   ]
  },
  {
   "cell_type": "code",
   "execution_count": 13,
   "id": "seven-module",
   "metadata": {},
   "outputs": [],
   "source": [
    "def base_view():\n",
    "    assm.ax.set_xlim([-10, 10])\n",
    "    assm.ax.set_ylim([30, 50])\n",
    "    assm.ax.set_zlim([-10,10])\n",
    "    \n",
    "base_view()"
   ]
  },
  {
   "cell_type": "code",
   "execution_count": 14,
   "id": "tracked-scanning",
   "metadata": {},
   "outputs": [],
   "source": [
    "king_hoist = bb.Frame(name='KingHoist')\n",
    "assm.add(king_hoist)\n",
    "king_hoist.translate([0,40.938+2,-12+14.875])"
   ]
  },
  {
   "cell_type": "code",
   "execution_count": 15,
   "id": "second-swimming",
   "metadata": {},
   "outputs": [],
   "source": [
    "arm_hoist = bb.Frame(name='ArmHoist')\n",
    "assm.add(arm_hoist)\n",
    "arm_hoist.translate([0,53.313+2,-12+6])"
   ]
  },
  {
   "cell_type": "markdown",
   "id": "smoking-photograph",
   "metadata": {},
   "source": [
    "Save the assembly for later use"
   ]
  },
  {
   "cell_type": "code",
   "execution_count": 16,
   "id": "based-beaver",
   "metadata": {},
   "outputs": [],
   "source": [
    "king_assm = bb.RigidCollection(name='KingpostAsm')\n",
    "king_assm.add(kingpost)\n",
    "king_assm.add(shoulder)\n",
    "king_assm.add(joint)\n",
    "king_assm.add(M)\n",
    "king_assm.add(base)\n",
    "king_assm.add(forearm_hoist)\n",
    "king_assm.add(arm_hoist)\n",
    "king_assm.add(king_hoist)\n",
    "king_assm.to_json('Kingpost')"
   ]
  }
 ],
 "metadata": {
  "kernelspec": {
   "display_name": "bumblebee-dev",
   "language": "python",
   "name": "bumblebee-dev"
  },
  "language_info": {
   "codemirror_mode": {
    "name": "ipython",
    "version": 3
   },
   "file_extension": ".py",
   "mimetype": "text/x-python",
   "name": "python",
   "nbconvert_exporter": "python",
   "pygments_lexer": "ipython3",
   "version": "3.7.9"
  }
 },
 "nbformat": 4,
 "nbformat_minor": 5
}

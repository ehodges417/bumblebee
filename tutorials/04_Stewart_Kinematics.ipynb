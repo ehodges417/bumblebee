{
 "cells": [
  {
   "cell_type": "markdown",
   "id": "perceived-liberal",
   "metadata": {},
   "source": [
    "# Stewart Assembly"
   ]
  },
  {
   "cell_type": "markdown",
   "id": "bibliographic-complaint",
   "metadata": {},
   "source": [
    "First create an empty coordinate system using bumblebee.CSYS, set the axis limits to contain the full figure."
   ]
  },
  {
   "cell_type": "code",
   "execution_count": 1,
   "id": "parliamentary-macintosh",
   "metadata": {},
   "outputs": [],
   "source": [
    "import bumblebee as bb"
   ]
  },
  {
   "cell_type": "code",
   "execution_count": 2,
   "id": "piano-granny",
   "metadata": {},
   "outputs": [
    {
     "data": {
      "application/vnd.jupyter.widget-view+json": {
       "model_id": "081481a6472646e3b3e1642ef61c959d",
       "version_major": 2,
       "version_minor": 0
      },
      "text/plain": [
       "HBox(children=(Tree(nodes=(Frame(icon='crosshairs', name='Origin', nodes=(Axis(icon='line', name='x-axis', ope…"
      ]
     },
     "metadata": {},
     "output_type": "display_data"
    }
   ],
   "source": [
    "assm = bb.CSYS()\n",
    "assm.ax.set_xlim([-10,10])\n",
    "assm.ax.set_ylim([-10,10])\n",
    "assm.ax.set_zlim([-5,15])\n",
    "assm.plot()"
   ]
  },
  {
   "cell_type": "markdown",
   "id": "second-corps",
   "metadata": {},
   "source": [
    "Now we will add the stewart platform plates to the drawing."
   ]
  },
  {
   "cell_type": "code",
   "execution_count": 3,
   "id": "owned-blanket",
   "metadata": {},
   "outputs": [],
   "source": [
    "bplate = bb.RigidCollection.from_json('BottomPlateAssm.json')"
   ]
  },
  {
   "cell_type": "code",
   "execution_count": 4,
   "id": "premium-oracle",
   "metadata": {},
   "outputs": [],
   "source": [
    "assm.add(bplate)"
   ]
  },
  {
   "cell_type": "code",
   "execution_count": 5,
   "id": "permanent-therapy",
   "metadata": {},
   "outputs": [],
   "source": [
    "tplate = bb.RigidCollection.from_json('TopPlateAssm.json')"
   ]
  },
  {
   "cell_type": "code",
   "execution_count": 6,
   "id": "built-greek",
   "metadata": {},
   "outputs": [],
   "source": [
    "assm.add(tplate)"
   ]
  },
  {
   "cell_type": "markdown",
   "id": "mexican-andrew",
   "metadata": {},
   "source": [
    "Now move the top plate into place"
   ]
  },
  {
   "cell_type": "code",
   "execution_count": 7,
   "id": "other-education",
   "metadata": {},
   "outputs": [],
   "source": [
    "tplate.rotate_from_euler('x', 180, degrees=True)"
   ]
  },
  {
   "cell_type": "code",
   "execution_count": 8,
   "id": "equipped-toilet",
   "metadata": {},
   "outputs": [],
   "source": [
    "tplate.translate([0,0,15])"
   ]
  },
  {
   "cell_type": "markdown",
   "id": "laughing-amazon",
   "metadata": {},
   "source": [
    "Group as an assembly and save for later use"
   ]
  },
  {
   "cell_type": "code",
   "execution_count": 9,
   "id": "wrapped-flashing",
   "metadata": {},
   "outputs": [],
   "source": [
    "stewart_assm = bb.RigidCollection(name='StewartAssm')\n",
    "stewart_assm.add(tplate)\n",
    "stewart_assm.add(bplate)\n",
    "stewart_assm.to_json('StewartAssm')"
   ]
  }
 ],
 "metadata": {
  "kernelspec": {
   "display_name": "bumblebee-dev",
   "language": "python",
   "name": "bumblebee-dev"
  },
  "language_info": {
   "codemirror_mode": {
    "name": "ipython",
    "version": 3
   },
   "file_extension": ".py",
   "mimetype": "text/x-python",
   "name": "python",
   "nbconvert_exporter": "python",
   "pygments_lexer": "ipython3",
   "version": "3.7.9"
  }
 },
 "nbformat": 4,
 "nbformat_minor": 5
}

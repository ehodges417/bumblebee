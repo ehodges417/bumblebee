{
 "cells": [
  {
   "cell_type": "markdown",
   "id": "bearing-purchase",
   "metadata": {},
   "source": [
    "# Test Bed Sliders"
   ]
  },
  {
   "cell_type": "markdown",
   "id": "patient-unknown",
   "metadata": {},
   "source": [
    "Import the test bed from the previous module into a new coordinate system"
   ]
  },
  {
   "cell_type": "code",
   "execution_count": 1,
   "id": "modified-kennedy",
   "metadata": {},
   "outputs": [],
   "source": [
    "import bumblebee as bb\n",
    "import ipywidgets as widgets\n",
    "from GHelpers import GPlotter\n",
    "\n",
    "app = bb.Application()\n",
    "assm = app.csys\n",
    "assm.ax.set_xlim([-20,20])\n",
    "assm.ax.set_ylim([-20,20])\n",
    "assm.ax.set_zlim([0,40])\n",
    "\n",
    "test_bed = bb.RigidCollection.from_json('TestBedAssm.json')\n",
    "assm.add(test_bed)"
   ]
  },
  {
   "cell_type": "markdown",
   "id": "charged-serbia",
   "metadata": {},
   "source": [
    "### Set up body variables"
   ]
  },
  {
   "cell_type": "code",
   "execution_count": 2,
   "id": "complimentary-bearing",
   "metadata": {},
   "outputs": [],
   "source": [
    "test_bed.translate([0,0,15])"
   ]
  },
  {
   "cell_type": "code",
   "execution_count": 3,
   "id": "current-development",
   "metadata": {},
   "outputs": [],
   "source": [
    "arm=None\n",
    "slide_assm=None\n",
    "gantry=None\n",
    "stewart=None\n",
    "bplate=None\n",
    "tplate=None\n",
    "\n",
    "for node in test_bed.nodes:\n",
    "    arm = node if node.name == 'Arm' else arm\n",
    "    slide_assm = node if node.name == 'SlideAssm' else slide_assm\n",
    "    \n",
    "for node in slide_assm.nodes:\n",
    "    gantry = node if node.name == 'Gantry' else gantry\n",
    "    stewart = node if node.name == 'StewartAssm' else stewart\n",
    "    \n",
    "for node in stewart.nodes:\n",
    "    bplate = node if node.name == 'BottomPlateAssm' else bplate\n",
    "    tplate = node if node.name == 'TopPlateAssm' else tplate"
   ]
  },
  {
   "cell_type": "markdown",
   "id": "international-piece",
   "metadata": {},
   "source": [
    "### Stewart Kinematics"
   ]
  },
  {
   "cell_type": "code",
   "execution_count": 4,
   "id": "italic-christopher",
   "metadata": {},
   "outputs": [],
   "source": [
    "bottom_joints = []\n",
    "for node in bplate.nodes:\n",
    "    if \"Bracket\" in node.name:\n",
    "        for subnode in node.nodes:\n",
    "            if \"Joint\" in subnode.name:\n",
    "                bottom_joints.append(subnode)"
   ]
  },
  {
   "cell_type": "code",
   "execution_count": 5,
   "id": "palestinian-blood",
   "metadata": {},
   "outputs": [],
   "source": [
    "top_joints = []\n",
    "for node in tplate.nodes:\n",
    "    if \"Bracket\" in node.name:\n",
    "        for subnode in node.nodes:\n",
    "            if \"Joint\" in subnode.name:\n",
    "                top_joints.append(subnode)   "
   ]
  },
  {
   "cell_type": "code",
   "execution_count": 6,
   "id": "necessary-vatican",
   "metadata": {},
   "outputs": [],
   "source": [
    "import numpy as np\n",
    "links = []\n",
    "for bj, tj in zip([0,1,2,3,4,5],[2,5,0,3,4,1]):\n",
    "    start = top_joints[tj].tf[0:3,3]\n",
    "    end = bottom_joints[bj].tf[0:3,3]\n",
    "    \n",
    "    comb = np.vstack((start,end)).T\n",
    "    \n",
    "    link, = assm.ax.plot(*comb, 'r')\n",
    "    links.append(link)"
   ]
  },
  {
   "cell_type": "markdown",
   "id": "steady-significance",
   "metadata": {},
   "source": [
    "### Implement Slider Updates"
   ]
  },
  {
   "cell_type": "code",
   "execution_count": 7,
   "id": "better-purse",
   "metadata": {},
   "outputs": [],
   "source": [
    "def update_links():\n",
    "    for i, (bj, tj) in enumerate(zip([0,1,2,3,4,5],[2,5,0,3,4,1])):\n",
    "        start = top_joints[tj].tf[0:3,3]\n",
    "        end = bottom_joints[bj].tf[0:3,3]\n",
    "\n",
    "        comb = np.vstack((start,end)).T\n",
    "\n",
    "        links[i]._verts3d = (comb[0], comb[1], comb[2])\n",
    "        \n",
    "def IK(x,y,z):\n",
    "    slide_assm.tf[0,3] = x\n",
    "    slide_assm.update()\n",
    "    \n",
    "    bplate.tf[1:3,3] = [y,z]\n",
    "    bplate.update()\n",
    "    \n",
    "    update_links()\n",
    "    \n",
    "    assm.fig.canvas.draw()"
   ]
  },
  {
   "cell_type": "markdown",
   "id": "smoking-inspector",
   "metadata": {},
   "source": [
    "## Plot!"
   ]
  },
  {
   "cell_type": "code",
   "execution_count": 8,
   "id": "liquid-manchester",
   "metadata": {},
   "outputs": [
    {
     "data": {
      "application/vnd.jupyter.widget-view+json": {
       "model_id": "b5c6c82b419343f5a5fd5608e022e0ec",
       "version_major": 2,
       "version_minor": 0
      },
      "text/plain": [
       "VBox(children=(HBox(children=(HBox(children=(Tree(nodes=(Frame(icon='crosshairs', name='Origin', nodes=(Axis(i…"
      ]
     },
     "metadata": {},
     "output_type": "display_data"
    }
   ],
   "source": [
    "output = widgets.Output()\n",
    "with output:\n",
    "    plotter = GPlotter('TestPrint.gcode', fig=assm.fig, ax=assm.ax, units='in')\n",
    "    \n",
    "layer_slider, step_slider = plotter.get_sliders(IK=IK, draw=False)\n",
    "\n",
    "button = widgets.Button(description='Step Forward')\n",
    "def on_button_clicked(_):\n",
    "    plotter.step()\n",
    "button.on_click(on_button_clicked)\n",
    "\n",
    "widgets.VBox([widgets.HBox([assm.plot(new=False), layer_slider]), widgets.HBox([step_slider, button])])"
   ]
  }
 ],
 "metadata": {
  "kernelspec": {
   "display_name": "bumblebee-dev",
   "language": "python",
   "name": "bumblebee-dev"
  },
  "language_info": {
   "codemirror_mode": {
    "name": "ipython",
    "version": 3
   },
   "file_extension": ".py",
   "mimetype": "text/x-python",
   "name": "python",
   "nbconvert_exporter": "python",
   "pygments_lexer": "ipython3",
   "version": "3.7.9"
  }
 },
 "nbformat": 4,
 "nbformat_minor": 5
}

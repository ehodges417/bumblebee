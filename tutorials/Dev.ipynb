{
 "cells": [
  {
   "cell_type": "markdown",
   "id": "italian-botswana",
   "metadata": {},
   "source": [
    "# Creating An Assembly"
   ]
  },
  {
   "cell_type": "markdown",
   "id": "covered-hormone",
   "metadata": {},
   "source": [
    "First create an empty coordinate system using bumblebee.CSYS"
   ]
  },
  {
   "cell_type": "code",
   "execution_count": null,
   "id": "comparable-challenge",
   "metadata": {},
   "outputs": [],
   "source": [
    "import bumblebee as bb"
   ]
  },
  {
   "cell_type": "code",
   "execution_count": null,
   "id": "suffering-gilbert",
   "metadata": {},
   "outputs": [],
   "source": [
    "assm = bb.CSYS()\n",
    "assm.plot()"
   ]
  },
  {
   "cell_type": "markdown",
   "id": "outer-mills",
   "metadata": {},
   "source": [
    "## Bracket Assembly"
   ]
  },
  {
   "cell_type": "markdown",
   "id": "incorporated-mortality",
   "metadata": {},
   "source": [
    "Import the bracket and ball joint (from stl) as RigidBody objects and add them to the plot."
   ]
  },
  {
   "cell_type": "code",
   "execution_count": null,
   "id": "gross-connecticut",
   "metadata": {},
   "outputs": [],
   "source": [
    "bracket = bb.RigidBody(r\"C:\\Users\\Elijah\\Documents\\PrinterAssembly\\Stewart\\Python\\StewartBracket.stl\", name=\"Bracket\", units='cm')"
   ]
  },
  {
   "cell_type": "code",
   "execution_count": null,
   "id": "constant-truck",
   "metadata": {},
   "outputs": [],
   "source": [
    "assm.add(bracket)"
   ]
  },
  {
   "cell_type": "code",
   "execution_count": null,
   "id": "seasonal-wrist",
   "metadata": {},
   "outputs": [],
   "source": [
    "ball = bb.RigidBody(r\"C:\\Users\\Elijah\\Documents\\PrinterAssembly\\Stewart\\Python\\Ball.stl\", name=\"Ball\", units='cm')"
   ]
  },
  {
   "cell_type": "code",
   "execution_count": null,
   "id": "empirical-participation",
   "metadata": {},
   "outputs": [],
   "source": [
    "assm.add(ball)"
   ]
  },
  {
   "cell_type": "markdown",
   "id": "weekly-samuel",
   "metadata": {},
   "source": [
    "Currently these files are not in the correct location or orientation. Use the rotate/translate methods to move the ball joint to the correct location. \\*2.54 modifiers are because the translations are in inches but the stl is in centimeters."
   ]
  },
  {
   "cell_type": "code",
   "execution_count": null,
   "id": "japanese-playing",
   "metadata": {},
   "outputs": [],
   "source": [
    "ball.rotate_from_euler('y', 90, degrees=True)"
   ]
  },
  {
   "cell_type": "code",
   "execution_count": null,
   "id": "civilian-shell",
   "metadata": {},
   "outputs": [],
   "source": [
    "ball.rotate_from_euler('x', 90, degrees=True)"
   ]
  },
  {
   "cell_type": "code",
   "execution_count": null,
   "id": "aerial-reconstruction",
   "metadata": {},
   "outputs": [],
   "source": [
    "ball.translate([-1*2.54,0,-1.875*2.54])"
   ]
  },
  {
   "cell_type": "markdown",
   "id": "occasional-builder",
   "metadata": {},
   "source": [
    "Now add a new Frame. We will place this frame at the center of the ball joint to use later for kinematic calculations."
   ]
  },
  {
   "cell_type": "code",
   "execution_count": null,
   "id": "blank-bathroom",
   "metadata": {},
   "outputs": [],
   "source": [
    "joint = bb.Frame()"
   ]
  },
  {
   "cell_type": "code",
   "execution_count": null,
   "id": "discrete-modification",
   "metadata": {},
   "outputs": [],
   "source": [
    "assm.add(joint)"
   ]
  },
  {
   "cell_type": "code",
   "execution_count": null,
   "id": "boring-nerve",
   "metadata": {},
   "outputs": [],
   "source": [
    "joint.translate([-1*2.54,0,-0.875*2.54])"
   ]
  },
  {
   "cell_type": "markdown",
   "id": "comparable-section",
   "metadata": {},
   "source": [
    "This frame is not visible because it is covered entirely by the rigid body. To see the frame you can toggle the visiblity of the ball joint."
   ]
  },
  {
   "cell_type": "code",
   "execution_count": null,
   "id": "mysterious-liberal",
   "metadata": {},
   "outputs": [],
   "source": [
    "ball.toggle_vis()"
   ]
  },
  {
   "cell_type": "markdown",
   "id": "conventional-principle",
   "metadata": {},
   "source": [
    "Retoggle the visibility so you can see the ball again."
   ]
  },
  {
   "cell_type": "code",
   "execution_count": null,
   "id": "northern-sharing",
   "metadata": {},
   "outputs": [],
   "source": [
    "bracket.toggle_vis()"
   ]
  },
  {
   "cell_type": "markdown",
   "id": "liquid-services",
   "metadata": {},
   "source": [
    "In order to copy, rotate, and translate this assembly as a group it would be advantageous to group each of the pieces into a single assembly object. This is possible through bumblebee's RigidCollection object. First init an empty assembly object and then add each of the pieces."
   ]
  },
  {
   "cell_type": "code",
   "execution_count": null,
   "id": "outside-lecture",
   "metadata": {},
   "outputs": [],
   "source": [
    "bk_assm = bb.RigidCollection(name='BracketAssm1')"
   ]
  },
  {
   "cell_type": "code",
   "execution_count": null,
   "id": "liberal-communications",
   "metadata": {},
   "outputs": [],
   "source": [
    "assm.add(bk_assm)"
   ]
  },
  {
   "cell_type": "code",
   "execution_count": null,
   "id": "atomic-sauce",
   "metadata": {},
   "outputs": [],
   "source": [
    "for body in [bracket, ball, joint]:\n",
    "    bk_assm.add(body)\n",
    "    assm.tree.remove_node(body)"
   ]
  },
  {
   "cell_type": "code",
   "execution_count": null,
   "id": "concrete-savannah",
   "metadata": {},
   "outputs": [],
   "source": [
    "bk_assm.body_frame.toggle_vis()"
   ]
  },
  {
   "cell_type": "markdown",
   "id": "preceding-friendship",
   "metadata": {},
   "source": [
    "Finally, we can save this bracket assembly so that we can open and reference it later."
   ]
  },
  {
   "cell_type": "code",
   "execution_count": null,
   "id": "coordinate-dublin",
   "metadata": {},
   "outputs": [],
   "source": [
    "bk_assm.to_json('BracketAssm')"
   ]
  },
  {
   "cell_type": "markdown",
   "id": "environmental-stake",
   "metadata": {},
   "source": [
    "## Base Plate Assembly"
   ]
  },
  {
   "cell_type": "markdown",
   "id": "exempt-expense",
   "metadata": {},
   "source": [
    "For the base plate assembly we will create a new blank coordinate system."
   ]
  },
  {
   "cell_type": "code",
   "execution_count": null,
   "id": "willing-checkout",
   "metadata": {},
   "outputs": [],
   "source": [
    "import bumblebee as bb"
   ]
  },
  {
   "cell_type": "code",
   "execution_count": null,
   "id": "tracked-people",
   "metadata": {},
   "outputs": [],
   "source": [
    "assm = bb.CSYS()\n",
    "assm.plot()"
   ]
  },
  {
   "cell_type": "markdown",
   "id": "bibliographic-floating",
   "metadata": {},
   "source": [
    "Now we will add the base plate to the drawing."
   ]
  },
  {
   "cell_type": "code",
   "execution_count": null,
   "id": "following-netherlands",
   "metadata": {},
   "outputs": [],
   "source": [
    "bplate = bb.RigidBody(r\"C:\\Users\\Elijah\\Documents\\PrinterAssembly\\Stewart\\Python\\BottomPlate.stl\", name=\"BottomPlate\", units='cm')"
   ]
  },
  {
   "cell_type": "code",
   "execution_count": null,
   "id": "british-deviation",
   "metadata": {},
   "outputs": [],
   "source": [
    "assm.add(bplate)"
   ]
  },
  {
   "cell_type": "markdown",
   "id": "organizational-accused",
   "metadata": {},
   "source": [
    "Apply rotations to move it to the desired position."
   ]
  },
  {
   "cell_type": "code",
   "execution_count": null,
   "id": "subject-spray",
   "metadata": {},
   "outputs": [],
   "source": [
    "bplate.rotate_from_euler('x', 90, degrees=True)"
   ]
  },
  {
   "cell_type": "markdown",
   "id": "ceramic-stereo",
   "metadata": {},
   "source": [
    "Now we can add the bracket assembly to this coordinate system."
   ]
  },
  {
   "cell_type": "code",
   "execution_count": null,
   "id": "promotional-vegetarian",
   "metadata": {},
   "outputs": [],
   "source": [
    "bracket = bb.RigidCollection.from_json('BracketAssm.json')"
   ]
  },
  {
   "cell_type": "code",
   "execution_count": null,
   "id": "proud-dublin",
   "metadata": {},
   "outputs": [],
   "source": [
    "assm.add(bracket)"
   ]
  },
  {
   "cell_type": "markdown",
   "id": "polar-responsibility",
   "metadata": {},
   "source": [
    "Now move the bracket into position"
   ]
  },
  {
   "cell_type": "code",
   "execution_count": null,
   "id": "victorian-collaboration",
   "metadata": {},
   "outputs": [],
   "source": [
    "bracket.translate([0,0,2.125*2.54])"
   ]
  },
  {
   "cell_type": "code",
   "execution_count": null,
   "id": "occupied-brazilian",
   "metadata": {},
   "outputs": [],
   "source": [
    "bracket.rotate_from_euler('z', 90, degrees=True)"
   ]
  },
  {
   "cell_type": "code",
   "execution_count": null,
   "id": "circular-narrative",
   "metadata": {},
   "outputs": [],
   "source": [
    "bracket.translate([0,(-4.25-0.625)*2.54, 0])"
   ]
  },
  {
   "cell_type": "code",
   "execution_count": null,
   "id": "stunning-durham",
   "metadata": {},
   "outputs": [],
   "source": [
    "bracket.translate([1.5*2.54, 0, 0])"
   ]
  },
  {
   "cell_type": "markdown",
   "id": "recognized-waste",
   "metadata": {},
   "source": [
    "We would like to have 6 brackets in total. To create copies of components in place you can use the duplicate function. Here we duplicate the bracket and move it to a new position."
   ]
  },
  {
   "cell_type": "code",
   "execution_count": null,
   "id": "aquatic-complexity",
   "metadata": {},
   "outputs": [],
   "source": [
    "bracket2 = bracket.duplicate(name='Bracket2')"
   ]
  },
  {
   "cell_type": "code",
   "execution_count": null,
   "id": "accessory-knight",
   "metadata": {},
   "outputs": [],
   "source": [
    "assm.add(bracket2)"
   ]
  },
  {
   "cell_type": "code",
   "execution_count": null,
   "id": "approved-wrong",
   "metadata": {},
   "outputs": [],
   "source": [
    "bracket2.translate([-3*2.54, 0, 0])"
   ]
  },
  {
   "cell_type": "markdown",
   "id": "minus-index",
   "metadata": {},
   "source": [
    "To get the remaining 4 brackets, we will duplicate in place and rotate the brackets about the origin."
   ]
  },
  {
   "cell_type": "code",
   "execution_count": null,
   "id": "precise-basket",
   "metadata": {},
   "outputs": [],
   "source": [
    "for i, body in enumerate([bracket, bracket2]):\n",
    "    for j, rot in enumerate([120, 240]):\n",
    "        newbody = body.duplicate(name=f'Bracket{2*i+j+3}')\n",
    "        assm.add(newbody)\n",
    "        newbody.rotate_from_euler('z', rot, degrees=True, sweep=True)"
   ]
  },
  {
   "cell_type": "markdown",
   "id": "green-diameter",
   "metadata": {},
   "source": [
    "Because we will use the base plate in our kinematics, it would be nice to make it, it's own assembly"
   ]
  },
  {
   "cell_type": "code",
   "execution_count": null,
   "id": "verified-article",
   "metadata": {},
   "outputs": [],
   "source": [
    "bplate_assm = bb.RigidCollection(name='BottomPlateAssm')"
   ]
  },
  {
   "cell_type": "code",
   "execution_count": null,
   "id": "injured-wonder",
   "metadata": {},
   "outputs": [],
   "source": [
    "assm.add(bplate_assm)"
   ]
  },
  {
   "cell_type": "code",
   "execution_count": null,
   "id": "whole-prayer",
   "metadata": {},
   "outputs": [],
   "source": [
    "for body in assm.tree.nodes[1:-1]:\n",
    "    bplate_assm.add(body)\n",
    "    assm.tree.remove_node(body)"
   ]
  },
  {
   "cell_type": "markdown",
   "id": "scientific-lotus",
   "metadata": {},
   "source": [
    "Save the assembly"
   ]
  },
  {
   "cell_type": "code",
   "execution_count": null,
   "id": "funded-concept",
   "metadata": {},
   "outputs": [],
   "source": [
    "bplate_assm.to_json('BottomPlateAssm')"
   ]
  },
  {
   "cell_type": "markdown",
   "id": "brutal-library",
   "metadata": {},
   "source": [
    "## Verify movement"
   ]
  },
  {
   "cell_type": "code",
   "execution_count": null,
   "id": "adolescent-brown",
   "metadata": {},
   "outputs": [],
   "source": [
    "import bumblebee as bb\n",
    "assm = bb.Application()\n",
    "assm.grid"
   ]
  },
  {
   "cell_type": "code",
   "execution_count": null,
   "id": "academic-tulsa",
   "metadata": {},
   "outputs": [],
   "source": [
    "bplate_assm = bb.RigidCollection.from_json('BottomPlateAssm.json')"
   ]
  },
  {
   "cell_type": "code",
   "execution_count": null,
   "id": "retained-detector",
   "metadata": {},
   "outputs": [],
   "source": [
    "assm.csys.add(bplate_assm)"
   ]
  },
  {
   "cell_type": "code",
   "execution_count": null,
   "id": "nutritional-toyota",
   "metadata": {},
   "outputs": [],
   "source": [
    "bplate_assm.translate([0,0,-3])"
   ]
  },
  {
   "cell_type": "code",
   "execution_count": null,
   "id": "protective-activity",
   "metadata": {},
   "outputs": [],
   "source": [
    "bplate_assm.rotate_from_euler('x', -30, degrees=True)"
   ]
  },
  {
   "cell_type": "code",
   "execution_count": null,
   "id": "primary-blind",
   "metadata": {},
   "outputs": [],
   "source": []
  }
 ],
 "metadata": {
  "kernelspec": {
   "display_name": "bumblebee-dev",
   "language": "python",
   "name": "bumblebee-dev"
  },
  "language_info": {
   "codemirror_mode": {
    "name": "ipython",
    "version": 3
   },
   "file_extension": ".py",
   "mimetype": "text/x-python",
   "name": "python",
   "nbconvert_exporter": "python",
   "pygments_lexer": "ipython3",
   "version": "3.7.9"
  }
 },
 "nbformat": 4,
 "nbformat_minor": 5
}

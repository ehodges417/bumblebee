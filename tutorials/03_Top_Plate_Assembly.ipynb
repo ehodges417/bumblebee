{
 "cells": [
  {
   "cell_type": "markdown",
   "id": "constant-newcastle",
   "metadata": {},
   "source": [
    "# Top Plate Assembly"
   ]
  },
  {
   "cell_type": "markdown",
   "id": "danish-absolute",
   "metadata": {},
   "source": [
    "First create an empty coordinate system using bumblebee.CSYS"
   ]
  },
  {
   "cell_type": "code",
   "execution_count": 1,
   "id": "inside-grenada",
   "metadata": {},
   "outputs": [],
   "source": [
    "import bumblebee as bb"
   ]
  },
  {
   "cell_type": "code",
   "execution_count": 2,
   "id": "precise-correspondence",
   "metadata": {},
   "outputs": [
    {
     "data": {
      "application/vnd.jupyter.widget-view+json": {
       "model_id": "e99d7e09ff154e0ea959d752c6b90fbf",
       "version_major": 2,
       "version_minor": 0
      },
      "text/plain": [
       "HBox(children=(Tree(nodes=(Frame(icon='crosshairs', name='Origin', nodes=(Axis(icon='line', name='x-axis', ope…"
      ]
     },
     "metadata": {},
     "output_type": "display_data"
    }
   ],
   "source": [
    "assm = bb.CSYS()\n",
    "assm.ax.set_xlim([-10,10])\n",
    "assm.ax.set_ylim([-10,10])\n",
    "assm.ax.set_zlim([-5,15])\n",
    "assm.plot()"
   ]
  },
  {
   "cell_type": "markdown",
   "id": "hundred-worth",
   "metadata": {},
   "source": [
    "Now we will add the base plate to the drawing."
   ]
  },
  {
   "cell_type": "code",
   "execution_count": 3,
   "id": "medieval-ordering",
   "metadata": {},
   "outputs": [],
   "source": [
    "tplate = bb.RigidBody(r\"C:\\Users\\Elijah\\Documents\\PrinterAssembly\\Stewart\\LowPoly\\TopPlate.stl\", name=\"TopPlate\", units='cm')"
   ]
  },
  {
   "cell_type": "code",
   "execution_count": 4,
   "id": "indian-pakistan",
   "metadata": {},
   "outputs": [],
   "source": [
    "assm.add(tplate)"
   ]
  },
  {
   "cell_type": "markdown",
   "id": "organizational-accused",
   "metadata": {},
   "source": [
    "Apply rotations to move it to the desired position."
   ]
  },
  {
   "cell_type": "code",
   "execution_count": 5,
   "id": "sorted-administrator",
   "metadata": {},
   "outputs": [],
   "source": [
    "tplate.rotate_from_euler('x', 90, degrees=True)"
   ]
  },
  {
   "cell_type": "markdown",
   "id": "existing-ebony",
   "metadata": {},
   "source": [
    "Now we can add the bracket assembly to this coordinate system."
   ]
  },
  {
   "cell_type": "code",
   "execution_count": 6,
   "id": "herbal-register",
   "metadata": {},
   "outputs": [],
   "source": [
    "bracket = bb.RigidCollection.from_json('BracketAssm.json')"
   ]
  },
  {
   "cell_type": "code",
   "execution_count": 7,
   "id": "duplicate-talent",
   "metadata": {},
   "outputs": [],
   "source": [
    "assm.add(bracket)"
   ]
  },
  {
   "cell_type": "markdown",
   "id": "polar-responsibility",
   "metadata": {},
   "source": [
    "Now move the bracket into position"
   ]
  },
  {
   "cell_type": "code",
   "execution_count": 8,
   "id": "completed-alliance",
   "metadata": {},
   "outputs": [],
   "source": [
    "bracket.translate([0,0,2.125])"
   ]
  },
  {
   "cell_type": "code",
   "execution_count": 9,
   "id": "saving-activation",
   "metadata": {},
   "outputs": [],
   "source": [
    "bracket.rotate_from_euler('z', 90, degrees=True)"
   ]
  },
  {
   "cell_type": "code",
   "execution_count": 10,
   "id": "separate-barbados",
   "metadata": {},
   "outputs": [],
   "source": [
    "bracket.translate([0,(-4.413-0.625), 0])"
   ]
  },
  {
   "cell_type": "code",
   "execution_count": 11,
   "id": "artistic-thailand",
   "metadata": {},
   "outputs": [],
   "source": [
    "bracket.translate([2.125, 0, 0])"
   ]
  },
  {
   "cell_type": "markdown",
   "id": "electronic-exception",
   "metadata": {},
   "source": [
    "We would like to have 6 brackets in total. To create copies of components in place you can use the duplicate function. Here we duplicate the bracket and move it to a new position."
   ]
  },
  {
   "cell_type": "code",
   "execution_count": 12,
   "id": "played-placement",
   "metadata": {},
   "outputs": [],
   "source": [
    "bracket6 = bracket.duplicate(name='Bracket6')\n",
    "assm.add(bracket6)\n",
    "bracket6.translate([-2.125*2, 0, 0])"
   ]
  },
  {
   "cell_type": "code",
   "execution_count": 13,
   "id": "talented-beaver",
   "metadata": {},
   "outputs": [],
   "source": [
    "bracket3 = bracket.duplicate(name='Bracket3')\n",
    "assm.add(bracket3)\n",
    "bracket3.rotate_from_euler('z', 120, degrees=True, sweep=True)"
   ]
  },
  {
   "cell_type": "code",
   "execution_count": 14,
   "id": "american-collector",
   "metadata": {},
   "outputs": [],
   "source": [
    "bracket2 = bracket6.duplicate(name='Bracket2')\n",
    "assm.add(bracket2)\n",
    "bracket2.rotate_from_euler('z', 120, degrees=True, sweep=True)"
   ]
  },
  {
   "cell_type": "code",
   "execution_count": 15,
   "id": "complete-rachel",
   "metadata": {},
   "outputs": [],
   "source": [
    "bracket5 = bracket.duplicate(name='Bracket5')\n",
    "assm.add(bracket5)\n",
    "bracket5.rotate_from_euler('z', 240, degrees=True, sweep=True)"
   ]
  },
  {
   "cell_type": "code",
   "execution_count": 16,
   "id": "liked-bridal",
   "metadata": {},
   "outputs": [],
   "source": [
    "bracket4 = bracket6.duplicate(name='Bracket4')\n",
    "assm.add(bracket4)\n",
    "bracket4.rotate_from_euler('z', 240, degrees=True, sweep=True)"
   ]
  },
  {
   "cell_type": "markdown",
   "id": "municipal-range",
   "metadata": {},
   "source": [
    "Because we will use the base plate in our kinematics, it would be nice to make it, it's own assembly"
   ]
  },
  {
   "cell_type": "code",
   "execution_count": 17,
   "id": "optional-crossing",
   "metadata": {},
   "outputs": [],
   "source": [
    "tplate_assm = bb.RigidCollection(name='TopPlateAssm')"
   ]
  },
  {
   "cell_type": "code",
   "execution_count": 18,
   "id": "extraordinary-warren",
   "metadata": {},
   "outputs": [],
   "source": [
    "assm.add(tplate_assm)"
   ]
  },
  {
   "cell_type": "code",
   "execution_count": 19,
   "id": "involved-graduate",
   "metadata": {},
   "outputs": [],
   "source": [
    "for body in assm.tree.nodes[1:-1]:\n",
    "    tplate_assm.add(body)\n",
    "    assm.tree.remove_node(body)"
   ]
  },
  {
   "cell_type": "markdown",
   "id": "mature-proceeding",
   "metadata": {},
   "source": [
    "Save the assembly"
   ]
  },
  {
   "cell_type": "code",
   "execution_count": 20,
   "id": "adjusted-baking",
   "metadata": {},
   "outputs": [],
   "source": [
    "tplate_assm.to_json('TopPlateAssm')"
   ]
  },
  {
   "cell_type": "code",
   "execution_count": null,
   "id": "passing-contact",
   "metadata": {},
   "outputs": [],
   "source": []
  }
 ],
 "metadata": {
  "kernelspec": {
   "display_name": "bumblebee-dev",
   "language": "python",
   "name": "bumblebee-dev"
  },
  "language_info": {
   "codemirror_mode": {
    "name": "ipython",
    "version": 3
   },
   "file_extension": ".py",
   "mimetype": "text/x-python",
   "name": "python",
   "nbconvert_exporter": "python",
   "pygments_lexer": "ipython3",
   "version": "3.7.9"
  }
 },
 "nbformat": 4,
 "nbformat_minor": 5
}

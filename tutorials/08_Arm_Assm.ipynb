{
 "cells": [
  {
   "cell_type": "markdown",
   "id": "durable-hearts",
   "metadata": {},
   "source": [
    "# Arm Assembly"
   ]
  },
  {
   "cell_type": "markdown",
   "id": "present-murder",
   "metadata": {},
   "source": [
    "Use CSYS to create a scene"
   ]
  },
  {
   "cell_type": "code",
   "execution_count": 1,
   "id": "nominated-robin",
   "metadata": {},
   "outputs": [
    {
     "data": {
      "text/html": [
       "<style>.container { width:80% !important; }</style>"
      ],
      "text/plain": [
       "<IPython.core.display.HTML object>"
      ]
     },
     "metadata": {},
     "output_type": "display_data"
    }
   ],
   "source": [
    "from IPython.core.display import display, HTML\n",
    "display(HTML(\"<style>.container { width:80% !important; }</style>\"))"
   ]
  },
  {
   "cell_type": "code",
   "execution_count": 2,
   "id": "provincial-stuff",
   "metadata": {},
   "outputs": [],
   "source": [
    "import bumblebee as bb\n",
    "from IPython.display import display"
   ]
  },
  {
   "cell_type": "code",
   "execution_count": 3,
   "id": "associate-billion",
   "metadata": {},
   "outputs": [
    {
     "data": {
      "application/vnd.jupyter.widget-view+json": {
       "model_id": "416ba0079fff4b6e88f8d5235da646dd",
       "version_major": 2,
       "version_minor": 0
      },
      "text/plain": [
       "HBox(children=(Tree(nodes=(Frame(icon='crosshairs', name='Origin', nodes=(Axis(icon='line', name='x-axis', ope…"
      ]
     },
     "metadata": {},
     "output_type": "display_data"
    }
   ],
   "source": [
    "assm = bb.CSYS()\n",
    "def home_view():\n",
    "    assm.ax.set_xlim([-10, 10])\n",
    "    assm.ax.set_ylim([-10, 10])\n",
    "    assm.ax.set_zlim([-10,10])\n",
    "home_view()\n",
    "display(assm.plot())"
   ]
  },
  {
   "cell_type": "markdown",
   "id": "civilian-board",
   "metadata": {},
   "source": [
    "## Arm"
   ]
  },
  {
   "cell_type": "markdown",
   "id": "million-draft",
   "metadata": {},
   "source": [
    "Add the arm to the scene"
   ]
  },
  {
   "cell_type": "code",
   "execution_count": 4,
   "id": "integral-contrary",
   "metadata": {},
   "outputs": [],
   "source": [
    "arm = bb.RigidBody(r\"C:\\Users\\Elijah\\Documents\\PrinterAssembly\\LowPoly\\Arm.stl\", name=\"Arm\", units='cm')\n",
    "assm.add(arm)\n",
    "arm.rotate_from_euler('z', -90, degrees=True)\n",
    "arm.translate([-2, 0, 2])"
   ]
  },
  {
   "cell_type": "markdown",
   "id": "checked-equilibrium",
   "metadata": {},
   "source": [
    "Add the shoulder to the scene"
   ]
  },
  {
   "cell_type": "code",
   "execution_count": 5,
   "id": "unauthorized-cooler",
   "metadata": {},
   "outputs": [],
   "source": [
    "shoulder = bb.RigidBody(r\"C:\\Users\\Elijah\\Documents\\PrinterAssembly\\LowPoly\\arm_shoulder.stl\", name=\"ArmShoulder\", units='cm')\n",
    "assm.add(shoulder)\n",
    "shoulder.rotate_from_euler('y', -90, degrees=True)\n",
    "shoulder.rotate_from_euler('z', 180, degrees=True)\n",
    "shoulder.translate([0,4,-4.564-1.75])"
   ]
  },
  {
   "cell_type": "markdown",
   "id": "alternate-continent",
   "metadata": {},
   "source": [
    "Add the elbow to the scene"
   ]
  },
  {
   "cell_type": "code",
   "execution_count": 6,
   "id": "personal-friendly",
   "metadata": {},
   "outputs": [],
   "source": [
    "def end_view():\n",
    "    assm.ax.set_xlim([-10, 10])\n",
    "    assm.ax.set_ylim([-150, -130])\n",
    "    assm.ax.set_zlim([-10,10])\n",
    "    \n",
    "end_view()"
   ]
  },
  {
   "cell_type": "code",
   "execution_count": 7,
   "id": "eight-filter",
   "metadata": {},
   "outputs": [],
   "source": [
    "elbow = bb.RigidBody(r\"C:\\Users\\Elijah\\Documents\\PrinterAssembly\\LowPoly\\arm_elbow.stl\", name=\"ArmElbow\", units='cm')\n",
    "assm.add(elbow)\n",
    "elbow.translate([0,-140.105 + 1.5,0])\n",
    "elbow.rotate_from_euler('y', -90, degrees=True)\n",
    "elbow.rotate_from_euler('z', 180, degrees=True)\n",
    "elbow.translate([2,0,-2])"
   ]
  },
  {
   "cell_type": "markdown",
   "id": "timely-journalism",
   "metadata": {},
   "source": [
    "Check that everything looks right"
   ]
  },
  {
   "cell_type": "code",
   "execution_count": 8,
   "id": "healthy-convergence",
   "metadata": {},
   "outputs": [],
   "source": [
    "def full_view():\n",
    "    assm.ax.set_xlim([-75, 75])\n",
    "    assm.ax.set_ylim([-150, 0])\n",
    "    assm.ax.set_zlim([-75,75])\n",
    "    \n",
    "full_view()"
   ]
  },
  {
   "cell_type": "markdown",
   "id": "commercial-consciousness",
   "metadata": {},
   "source": [
    "Convert arm to an assembly"
   ]
  },
  {
   "cell_type": "code",
   "execution_count": 9,
   "id": "binary-colleague",
   "metadata": {},
   "outputs": [],
   "source": [
    "arm_assm = bb.RigidCollection(name='ArmAsm')\n",
    "\n",
    "for body in [arm, elbow, shoulder]:\n",
    "    arm_assm.add(body)\n",
    "    assm.tree.remove_node(body)\n",
    "\n",
    "arm_assm.bind(assm)\n",
    "assm.tree.add_node(arm_assm)"
   ]
  },
  {
   "cell_type": "markdown",
   "id": "approximate-remark",
   "metadata": {},
   "source": [
    "Add frames representing the joint, and end of the link to be used in kinematic calcs"
   ]
  },
  {
   "cell_type": "code",
   "execution_count": 10,
   "id": "boolean-kinase",
   "metadata": {},
   "outputs": [
    {
     "data": {
      "application/vnd.jupyter.widget-view+json": {
       "model_id": "359eccfcda324f8d8e73d9c3fa71dc98",
       "version_major": 2,
       "version_minor": 0
      },
      "text/plain": [
       "HBox(children=(Tree(nodes=(Frame(icon='crosshairs', name='Origin', nodes=(Axis(icon='line', name='x-axis', ope…"
      ]
     },
     "metadata": {},
     "output_type": "display_data"
    }
   ],
   "source": [
    "display(assm.plot())\n",
    "home_view()"
   ]
  },
  {
   "cell_type": "code",
   "execution_count": 11,
   "id": "revised-newcastle",
   "metadata": {},
   "outputs": [],
   "source": [
    "joint = bb.Frame(name='Joint')\n",
    "arm_assm.add(joint)\n",
    "joint.translate([0,1.25,-7.504-1.75])"
   ]
  },
  {
   "cell_type": "code",
   "execution_count": 12,
   "id": "eastern-anime",
   "metadata": {},
   "outputs": [],
   "source": [
    "end_view()"
   ]
  },
  {
   "cell_type": "code",
   "execution_count": 13,
   "id": "known-berlin",
   "metadata": {},
   "outputs": [],
   "source": [
    "M = bb.Frame(name='M_pose')\n",
    "arm_assm.add(M)\n",
    "M.translate([0,-140.105-7.25,-2.375])"
   ]
  },
  {
   "cell_type": "code",
   "execution_count": 14,
   "id": "nominated-canon",
   "metadata": {},
   "outputs": [],
   "source": [
    "# due to the tangent point moving with angle this is only appx.\n",
    "wire_pt = bb.Frame(name='WirePt')\n",
    "arm_assm.add(wire_pt)\n",
    "wire_pt.translate([0, -11.5+2.315, 0])"
   ]
  },
  {
   "cell_type": "markdown",
   "id": "persistent-bottle",
   "metadata": {},
   "source": [
    "## Crown Assembly"
   ]
  },
  {
   "cell_type": "code",
   "execution_count": 15,
   "id": "optional-russell",
   "metadata": {},
   "outputs": [],
   "source": [
    "home_view()"
   ]
  },
  {
   "cell_type": "markdown",
   "id": "coastal-joining",
   "metadata": {},
   "source": [
    "Add a frame to assist in locating the support joint"
   ]
  },
  {
   "cell_type": "code",
   "execution_count": 16,
   "id": "particular-native",
   "metadata": {},
   "outputs": [],
   "source": [
    "sup_joint = bb.Frame(name='SupportJoint')\n",
    "assm.add(sup_joint)\n",
    "sup_joint.translate([0, 2, 1.1+1.75])"
   ]
  },
  {
   "cell_type": "markdown",
   "id": "floppy-guidance",
   "metadata": {},
   "source": [
    "Add the eccentric ring, this is needed to properly constrain the support beams."
   ]
  },
  {
   "cell_type": "code",
   "execution_count": 17,
   "id": "metric-audio",
   "metadata": {},
   "outputs": [],
   "source": [
    "eccentric = bb.RigidBody(r\"C:\\Users\\Elijah\\Documents\\PrinterAssembly\\LowPoly\\eccentric.stl\", name=\"Eccentric\", units='cm')\n",
    "assm.add(eccentric)"
   ]
  },
  {
   "cell_type": "code",
   "execution_count": 18,
   "id": "natural-rapid",
   "metadata": {},
   "outputs": [],
   "source": [
    "eccentric.rotate_from_euler('y', -90, degrees=True)"
   ]
  },
  {
   "cell_type": "code",
   "execution_count": 19,
   "id": "altered-experience",
   "metadata": {},
   "outputs": [],
   "source": [
    "eccentric.translate([0.5,2,1.1+1.75+0.5])"
   ]
  },
  {
   "cell_type": "markdown",
   "id": "romance-complex",
   "metadata": {},
   "source": [
    "Add the veritical support beam"
   ]
  },
  {
   "cell_type": "code",
   "execution_count": 20,
   "id": "going-massage",
   "metadata": {},
   "outputs": [],
   "source": [
    "crown = bb.RigidBody(r\"C:\\Users\\Elijah\\Documents\\PrinterAssembly\\LowPoly\\crown.stl\", name=\"Crown\", units='cm')\n",
    "assm.add(crown)"
   ]
  },
  {
   "cell_type": "code",
   "execution_count": 21,
   "id": "adverse-amber",
   "metadata": {},
   "outputs": [],
   "source": [
    "crown_assm = bb.RigidCollection(name='CrownAssm')\n",
    "for body in [crown]:\n",
    "    crown_assm.add(body)\n",
    "    assm.tree.remove_node(body)\n",
    "\n",
    "crown_assm.bind(assm)\n",
    "assm.tree.add_node(crown_assm)"
   ]
  },
  {
   "cell_type": "code",
   "execution_count": 22,
   "id": "affiliated-death",
   "metadata": {},
   "outputs": [],
   "source": [
    "crown_joint = bb.Frame(name='CrownJoint')\n",
    "crown_assm.add(crown_joint)\n",
    "crown_joint.translate([3, 1.5, -0.75])"
   ]
  },
  {
   "cell_type": "code",
   "execution_count": 23,
   "id": "durable-storage",
   "metadata": {},
   "outputs": [],
   "source": [
    "crown_M = bb.Frame(name='CrownM')\n",
    "crown_assm.add(crown_M)\n",
    "crown_M.translate([3, 40.697, 0])"
   ]
  },
  {
   "cell_type": "code",
   "execution_count": 24,
   "id": "floating-disease",
   "metadata": {},
   "outputs": [],
   "source": [
    "crown_assm.tf = crown_joint.inv_tf @ sup_joint.tf\n",
    "crown_assm.update()"
   ]
  },
  {
   "cell_type": "markdown",
   "id": "expressed-generator",
   "metadata": {},
   "source": [
    "Find the transform for the home position of the vertical support beam"
   ]
  },
  {
   "cell_type": "code",
   "execution_count": 25,
   "id": "quality-purse",
   "metadata": {},
   "outputs": [],
   "source": [
    "import numpy as np\n",
    "from scipy.spatial.transform import Rotation\n",
    "cable1 = 157.875 #length of cable in tension\n",
    "arm_len = np.sqrt(np.sum((M.tf[0:3,3]-sup_joint.tf[0:3,3])**2))\n",
    "crown_len = np.sqrt(np.sum((crown_M.tf[0:3,3]-crown_joint.tf[0:3,3])**2))\n",
    "\n",
    "a = cable1\n",
    "b = arm_len\n",
    "c = crown_len\n",
    "\n",
    "alpha = np.arccos((b**2 + c**2 - a**2)/(2*b*c))\n",
    "\n",
    "# get arm vector in yz plane\n",
    "arm_vec = M.tf[1:3, 3] - sup_joint.tf[1:3,3]\n",
    "arm_vec /= np.linalg.norm(arm_vec)\n",
    "crown_vec_unit = (np.array([[np.cos(-alpha), -np.sin(-alpha)], [np.sin(-alpha), np.cos(-alpha)]]) @ arm_vec)\n",
    "crown_vec = crown_vec_unit * crown_len\n",
    "\n",
    "# plot the triangle\n",
    "assm.ax.plot([0, 0, 0], [M.tf[1,3], crown_vec[0]+sup_joint.tf[1,3], sup_joint.tf[1,3]],[M.tf[2,3], crown_vec[1]+sup_joint.tf[2,3], sup_joint.tf[2,3]], 'k')\n",
    "\n",
    "# get midpoint of rotated beam at joint\n",
    "perp = np.array([[0,-1],[1,0]]) @ crown_vec_unit\n",
    "mid = sup_joint.tf[1:3,3] + 0.75*perp\n",
    "\n",
    "# get distances to midpoint from the rotated end point and joint pos\n",
    "distM = np.sqrt(np.sum((crown_M.tf[1:3,3]-mid)**2))\n",
    "distQ = np.sqrt(np.sum((sup_joint.tf[1:3,3]-mid)**2))\n",
    "\n",
    "# get the angle between the midplane and the joint/endpoint line\n",
    "gamma = np.arctan(distQ/distM)\n",
    "\n",
    "# get the rotation angle relative to y axis\n",
    "\n",
    "below_plane = np.arctan((M.tf[2,3]-sup_joint.tf[2,3])/(M.tf[1,3]-sup_joint.tf[1,3]))\n",
    "crown_ang_from_y = np.pi - ((alpha - below_plane) + gamma)\n",
    "\n",
    "R = Rotation.from_euler('x', crown_ang_from_y)"
   ]
  },
  {
   "cell_type": "code",
   "execution_count": 26,
   "id": "impressive-candle",
   "metadata": {},
   "outputs": [],
   "source": [
    "T=np.eye(4)\n",
    "T[0:3,0:3] = R.as_matrix()\n",
    "T[1:3,3] = crown_vec + sup_joint.tf[1:3,3]\n",
    "\n",
    "rel_pose = crown_M.inv_tf @ crown_assm.tf\n",
    "\n",
    "newT = T @ rel_pose\n",
    "crown_assm.tf = newT.copy()\n",
    "crown_assm.update()"
   ]
  },
  {
   "cell_type": "markdown",
   "id": "intended-colon",
   "metadata": {},
   "source": [
    "## Wing Assembly"
   ]
  },
  {
   "cell_type": "markdown",
   "id": "friendly-reservoir",
   "metadata": {},
   "source": [
    "Create the wing in a new CSYS so that things don't get too cluttered. Will add back to full assembly later"
   ]
  },
  {
   "cell_type": "code",
   "execution_count": 27,
   "id": "boring-sensitivity",
   "metadata": {},
   "outputs": [
    {
     "data": {
      "application/vnd.jupyter.widget-view+json": {
       "model_id": "97279a6d5ea94f13b2da7f1ec33daccb",
       "version_major": 2,
       "version_minor": 0
      },
      "text/plain": [
       "HBox(children=(Tree(nodes=(Frame(icon='crosshairs', name='Origin', nodes=(Axis(icon='line', name='x-axis', ope…"
      ]
     },
     "metadata": {},
     "output_type": "display_data"
    }
   ],
   "source": [
    "assm2 = bb.CSYS()\n",
    "def home_view():\n",
    "    assm2.ax.set_xlim([-10, 10])\n",
    "    assm2.ax.set_ylim([-10, 10])\n",
    "    assm2.ax.set_zlim([-10,10])\n",
    "home_view()\n",
    "display(assm2.plot())"
   ]
  },
  {
   "cell_type": "code",
   "execution_count": 28,
   "id": "beginning-framework",
   "metadata": {},
   "outputs": [],
   "source": [
    "wing = bb.RigidBody(r\"C:\\Users\\Elijah\\Documents\\PrinterAssembly\\LowPoly\\wing.stl\", name=\"wing\", units='cm')\n",
    "assm2.add(wing)"
   ]
  },
  {
   "cell_type": "code",
   "execution_count": 29,
   "id": "gross-bryan",
   "metadata": {},
   "outputs": [],
   "source": [
    "wing_shoulder = bb.RigidBody(r\"C:\\Users\\Elijah\\Documents\\PrinterAssembly\\LowPoly\\wing_shoulder.stl\", name=\"WingShoulder\", units='cm')\n",
    "assm2.add(wing_shoulder)\n",
    "wing_shoulder.rotate_from_euler('x', 90, degrees=True)\n",
    "wing_shoulder.translate([0, 4, -4])"
   ]
  },
  {
   "cell_type": "code",
   "execution_count": 30,
   "id": "comfortable-review",
   "metadata": {},
   "outputs": [],
   "source": [
    "wing_cap = bb.RigidBody(r\"C:\\Users\\Elijah\\Documents\\PrinterAssembly\\LowPoly\\wing_cap.stl\", name=\"WingCap\", units='cm')\n",
    "assm2.add(wing_cap)\n",
    "wing_cap.rotate_from_euler('x', 90, degrees=True)\n",
    "wing_cap.rotate_from_euler('z', 180, degrees=True)\n",
    "wing_cap.translate([58.35, 0, -4])"
   ]
  },
  {
   "cell_type": "code",
   "execution_count": 31,
   "id": "brief-equality",
   "metadata": {},
   "outputs": [],
   "source": [
    "wing_assm = bb.RigidCollection(name='WingAssm')\n",
    "for body in [wing, wing_shoulder, wing_cap]:\n",
    "    wing_assm.add(body)\n",
    "    assm2.tree.remove_node(body)\n",
    "\n",
    "wing_assm.bind(assm2)\n",
    "assm2.tree.add_node(wing_assm)"
   ]
  },
  {
   "cell_type": "code",
   "execution_count": 32,
   "id": "disturbed-determination",
   "metadata": {},
   "outputs": [],
   "source": [
    "wing_joint = bb.Frame(name='WingJoint')\n",
    "wing_assm.add(wing_joint)\n",
    "wing_joint.translate([-3.25, 2, -0.535])"
   ]
  },
  {
   "cell_type": "code",
   "execution_count": 33,
   "id": "local-agency",
   "metadata": {},
   "outputs": [],
   "source": [
    "wing_M = bb.Frame(name='WingM')\n",
    "wing_assm.add(wing_M)\n",
    "wing_M.translate([58.35+5.25, 2, -2])"
   ]
  },
  {
   "cell_type": "markdown",
   "id": "greater-delivery",
   "metadata": {},
   "source": [
    "Now add it to our original coordinate system"
   ]
  },
  {
   "cell_type": "code",
   "execution_count": 34,
   "id": "unnecessary-doctrine",
   "metadata": {},
   "outputs": [
    {
     "data": {
      "application/vnd.jupyter.widget-view+json": {
       "model_id": "577e39b04e72488eb28f6cabf1114bb9",
       "version_major": 2,
       "version_minor": 0
      },
      "text/plain": [
       "HBox(children=(Tree(nodes=(Frame(icon='crosshairs', name='Origin', nodes=(Axis(icon='line', name='x-axis', ope…"
      ]
     },
     "metadata": {},
     "output_type": "display_data"
    }
   ],
   "source": [
    "assm.add(wing_assm)\n",
    "assm.plot()"
   ]
  },
  {
   "cell_type": "code",
   "execution_count": 35,
   "id": "acting-renaissance",
   "metadata": {},
   "outputs": [],
   "source": [
    "wing_assm.rotate_from_euler('z', 90, degrees=True)"
   ]
  },
  {
   "cell_type": "code",
   "execution_count": 36,
   "id": "weighted-spoke",
   "metadata": {},
   "outputs": [],
   "source": [
    "wing_M.rotate_from_euler('z', -90, degrees=True)"
   ]
  },
  {
   "cell_type": "code",
   "execution_count": 37,
   "id": "liked-enlargement",
   "metadata": {},
   "outputs": [
    {
     "data": {
      "text/plain": [
       "array([66.85 , -1.465])"
      ]
     },
     "execution_count": 37,
     "metadata": {},
     "output_type": "execute_result"
    }
   ],
   "source": [
    "wing_vec = wing_M.tf[1:3,3] - wing_joint.tf[1:3,3]\n",
    "wing_vec"
   ]
  },
  {
   "cell_type": "code",
   "execution_count": 38,
   "id": "environmental-radar",
   "metadata": {},
   "outputs": [],
   "source": [
    "R = Rotation.from_euler('x', -95.86 + crown_ang_from_y*180/np.pi, degrees=True) # from the crown"
   ]
  },
  {
   "cell_type": "code",
   "execution_count": 39,
   "id": "latest-variance",
   "metadata": {},
   "outputs": [],
   "source": [
    "loc = R.as_matrix() @ np.array([0, wing_vec[0], wing_vec[1]])"
   ]
  },
  {
   "cell_type": "code",
   "execution_count": 40,
   "id": "caroline-pottery",
   "metadata": {},
   "outputs": [],
   "source": [
    "T=np.eye(4)\n",
    "T[0:3,0:3] = R.as_matrix()\n",
    "T[0:3,3] = loc + [0,2,1.1+1.75+0.5]\n",
    "\n",
    "rel_pose = wing_M.inv_tf @ wing_assm.tf\n",
    "\n",
    "newT = T @ rel_pose\n",
    "wing_assm.tf = newT.copy()\n",
    "wing_assm.update()"
   ]
  },
  {
   "cell_type": "markdown",
   "id": "dressed-hardware",
   "metadata": {},
   "source": [
    "## Tail Assembly"
   ]
  },
  {
   "cell_type": "code",
   "execution_count": 41,
   "id": "increased-shopping",
   "metadata": {},
   "outputs": [
    {
     "data": {
      "application/vnd.jupyter.widget-view+json": {
       "model_id": "aec079d84bb14489ac02b1068fb2f8bd",
       "version_major": 2,
       "version_minor": 0
      },
      "text/plain": [
       "HBox(children=(Tree(nodes=(Frame(icon='crosshairs', name='Origin', nodes=(Axis(icon='line', name='x-axis', ope…"
      ]
     },
     "metadata": {},
     "output_type": "display_data"
    }
   ],
   "source": [
    "assm3 = bb.CSYS()\n",
    "def home_view():\n",
    "    assm3.ax.set_xlim([-10, 10])\n",
    "    assm3.ax.set_ylim([-10, 10])\n",
    "    assm3.ax.set_zlim([-10,10])\n",
    "home_view()\n",
    "display(assm3.plot())"
   ]
  },
  {
   "cell_type": "code",
   "execution_count": 42,
   "id": "secret-rocket",
   "metadata": {},
   "outputs": [],
   "source": [
    "tail = bb.RigidBody(r\"C:\\Users\\Elijah\\Documents\\PrinterAssembly\\LowPoly\\tail.stl\", name=\"tail\", units='cm')\n",
    "assm3.add(tail)"
   ]
  },
  {
   "cell_type": "code",
   "execution_count": 43,
   "id": "extra-scale",
   "metadata": {},
   "outputs": [],
   "source": [
    "tail.rotate_from_euler('xz', [90,90], degrees=True)"
   ]
  },
  {
   "cell_type": "code",
   "execution_count": 44,
   "id": "lesser-accuracy",
   "metadata": {},
   "outputs": [],
   "source": [
    "tail_assm = bb.RigidCollection(name='TailAssm')\n",
    "for body in [tail]:\n",
    "    tail_assm.add(body)\n",
    "    assm3.tree.remove_node(body)\n",
    "\n",
    "tail_assm.bind(assm3)\n",
    "assm3.tree.add_node(tail_assm)"
   ]
  },
  {
   "cell_type": "code",
   "execution_count": 45,
   "id": "changing-tanzania",
   "metadata": {},
   "outputs": [],
   "source": [
    "tail_joint = bb.Frame(name='TailJoint')\n",
    "tail_assm.add(tail_joint)\n",
    "tail_joint.translate([6.97/2, -1.933, 2.25])"
   ]
  },
  {
   "cell_type": "code",
   "execution_count": 46,
   "id": "cross-tower",
   "metadata": {},
   "outputs": [],
   "source": [
    "tail_M = bb.Frame(name='TailM')\n",
    "tail_assm.add(tail_M)\n",
    "tail_M.translate([6.97/2, -1.933+83.461, 2.25])"
   ]
  },
  {
   "cell_type": "code",
   "execution_count": 47,
   "id": "traditional-compensation",
   "metadata": {},
   "outputs": [
    {
     "data": {
      "application/vnd.jupyter.widget-view+json": {
       "model_id": "b4cbe7c3e10f4f679eb297bf25b20aae",
       "version_major": 2,
       "version_minor": 0
      },
      "text/plain": [
       "HBox(children=(Tree(nodes=(Frame(icon='crosshairs', name='Origin', nodes=(Axis(icon='line', name='x-axis', ope…"
      ]
     },
     "metadata": {},
     "output_type": "display_data"
    }
   ],
   "source": [
    "assm.add(tail_assm)\n",
    "assm.plot()"
   ]
  },
  {
   "cell_type": "code",
   "execution_count": 48,
   "id": "ignored-musical",
   "metadata": {},
   "outputs": [],
   "source": [
    "tail_vec = tail_M.tf[1:3,3] - tail_joint.tf[1:3,3]\n",
    "R = Rotation.from_euler('x', -95.86 + crown_ang_from_y*180/np.pi -36.49, degrees=True) # from the crown\n",
    "loc = R.as_matrix() @ np.array([0, tail_vec[0], tail_vec[1]])"
   ]
  },
  {
   "cell_type": "code",
   "execution_count": 49,
   "id": "supposed-warrant",
   "metadata": {},
   "outputs": [],
   "source": [
    "T=np.eye(4)\n",
    "T[0:3,0:3] = R.as_matrix()\n",
    "T[0:3,3] = loc + sup_joint.tf[0:3, 3]\n",
    "\n",
    "rel_pose = tail_M.inv_tf @ tail_assm.tf\n",
    "\n",
    "newT = T @ rel_pose\n",
    "tail_assm.tf = newT.copy()\n",
    "tail_assm.update()"
   ]
  },
  {
   "cell_type": "markdown",
   "id": "valuable-provision",
   "metadata": {},
   "source": [
    "Save the assembly for later use"
   ]
  },
  {
   "cell_type": "code",
   "execution_count": 50,
   "id": "informed-setting",
   "metadata": {},
   "outputs": [
    {
     "data": {
      "application/vnd.jupyter.widget-view+json": {
       "model_id": "a0d13e9b708b440bb4083c016be21c2c",
       "version_major": 2,
       "version_minor": 0
      },
      "text/plain": [
       "HBox(children=(Tree(nodes=(Frame(icon='crosshairs', name='Origin', nodes=(Axis(icon='line', name='x-axis', ope…"
      ]
     },
     "metadata": {},
     "output_type": "display_data"
    }
   ],
   "source": [
    "assm.ax.set_xlim([-100, 100])\n",
    "assm.ax.set_ylim([-100, 100])\n",
    "assm.ax.set_zlim([-100,100])\n",
    "assm.plot()"
   ]
  },
  {
   "cell_type": "code",
   "execution_count": 51,
   "id": "numerous-religious",
   "metadata": {},
   "outputs": [
    {
     "data": {
      "text/plain": [
       "[<mpl_toolkits.mplot3d.art3d.Line3D at 0x208565b0>]"
      ]
     },
     "execution_count": 51,
     "metadata": {},
     "output_type": "execute_result"
    }
   ],
   "source": [
    "assm.ax.plot(\n",
    "    [M.tf[0,3], crown_M.tf[0,3], wing_M.tf[0,3], tail_M.tf[0,3]],\n",
    "    [M.tf[1,3], crown_M.tf[1,3], wing_M.tf[1,3], tail_M.tf[1,3]],\n",
    "    [M.tf[2,3], crown_M.tf[2,3], wing_M.tf[2,3], tail_M.tf[2,3]],\n",
    "    'k'\n",
    ")"
   ]
  },
  {
   "cell_type": "code",
   "execution_count": 52,
   "id": "radical-deviation",
   "metadata": {},
   "outputs": [],
   "source": [
    "full_assm = bb.RigidCollection(name='ArmAsm')\n",
    "for body in [arm_assm, crown_assm, wing_assm, tail_assm]:\n",
    "    full_assm.add(body)\n",
    "full_assm.to_json('Arm')"
   ]
  },
  {
   "cell_type": "code",
   "execution_count": null,
   "id": "unknown-neighborhood",
   "metadata": {},
   "outputs": [],
   "source": []
  }
 ],
 "metadata": {
  "celltoolbar": "Raw Cell Format",
  "kernelspec": {
   "display_name": "bumblebee-dev",
   "language": "python",
   "name": "bumblebee-dev"
  },
  "language_info": {
   "codemirror_mode": {
    "name": "ipython",
    "version": 3
   },
   "file_extension": ".py",
   "mimetype": "text/x-python",
   "name": "python",
   "nbconvert_exporter": "python",
   "pygments_lexer": "ipython3",
   "version": "3.7.9"
  }
 },
 "nbformat": 4,
 "nbformat_minor": 5
}

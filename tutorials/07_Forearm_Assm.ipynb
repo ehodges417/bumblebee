{
 "cells": [
  {
   "cell_type": "markdown",
   "id": "local-demographic",
   "metadata": {},
   "source": [
    "# Forearm Assembly"
   ]
  },
  {
   "cell_type": "markdown",
   "id": "approximate-visibility",
   "metadata": {},
   "source": [
    "Use CSYS to create a scene"
   ]
  },
  {
   "cell_type": "code",
   "execution_count": 1,
   "id": "broad-contrast",
   "metadata": {},
   "outputs": [],
   "source": [
    "import bumblebee as bb"
   ]
  },
  {
   "cell_type": "code",
   "execution_count": 2,
   "id": "collect-partnership",
   "metadata": {},
   "outputs": [
    {
     "data": {
      "application/vnd.jupyter.widget-view+json": {
       "model_id": "8a48954d38ae4b1eb8b75ff308af68e6",
       "version_major": 2,
       "version_minor": 0
      },
      "text/plain": [
       "HBox(children=(Tree(nodes=(Frame(icon='crosshairs', name='Origin', nodes=(Axis(icon='line', name='x-axis', ope…"
      ]
     },
     "metadata": {},
     "output_type": "display_data"
    }
   ],
   "source": [
    "assm = bb.CSYS()\n",
    "assm.ax.set_xlim([-10, 10])\n",
    "assm.ax.set_ylim([-10, 10])\n",
    "assm.ax.set_zlim([-10,10])\n",
    "assm.plot()"
   ]
  },
  {
   "cell_type": "markdown",
   "id": "broken-enemy",
   "metadata": {},
   "source": [
    "Add the forearm to the assembly"
   ]
  },
  {
   "cell_type": "code",
   "execution_count": 3,
   "id": "affecting-greeting",
   "metadata": {},
   "outputs": [],
   "source": [
    "forearm = bb.RigidBody(r\"C:\\Users\\Elijah\\Documents\\PrinterAssembly\\Stewart\\LowPoly\\Arm.stl\", name=\"Forearm\", units='cm')\n",
    "assm.add(forearm)\n",
    "forearm.rotate_from_euler('z', -90, degrees=True)\n",
    "forearm.translate([0,-71.5935,0])"
   ]
  },
  {
   "cell_type": "markdown",
   "id": "revolutionary-sugar",
   "metadata": {},
   "source": [
    "Add eblow to the assembly"
   ]
  },
  {
   "cell_type": "code",
   "execution_count": 4,
   "id": "seven-insurance",
   "metadata": {},
   "outputs": [],
   "source": [
    "elbow = bb.RigidBody(r\"C:\\Users\\Elijah\\Documents\\PrinterAssembly\\LowPoly\\forearm_elbow.stl\", name=\"ForarmElbow\", units='cm')\n",
    "assm.add(elbow)\n",
    "elbow.rotate_from_euler('y', -90, degrees=True)\n",
    "elbow.rotate_from_euler('z', 180, degrees=True)\n",
    "elbow.translate([2,0,2])"
   ]
  },
  {
   "cell_type": "markdown",
   "id": "advance-dollar",
   "metadata": {},
   "source": [
    "Add frames representing the joint, and end of the link to be used in kinematic calcs"
   ]
  },
  {
   "cell_type": "code",
   "execution_count": 5,
   "id": "aging-filling",
   "metadata": {},
   "outputs": [],
   "source": [
    "joint = bb.Frame(name='Joint')\n",
    "assm.add(joint)\n",
    "joint.translate([0,2.7,-2.375])\n",
    "\n",
    "M = bb.Frame(name='M_pose')\n",
    "assm.add(M)\n",
    "M.translate([0,-71.5935*2,0])"
   ]
  },
  {
   "cell_type": "code",
   "execution_count": 6,
   "id": "corresponding-landscape",
   "metadata": {},
   "outputs": [],
   "source": [
    "forearm_assm = bb.RigidCollection(name='ForearmAssm')\n",
    "for body in [forearm, elbow, joint, M]:\n",
    "    forearm_assm.add(body)\n",
    "    assm.tree.remove_node(body)\n",
    "\n",
    "forearm_assm.bind(assm)\n",
    "assm.tree.add_node(forearm_assm)"
   ]
  },
  {
   "cell_type": "code",
   "execution_count": 7,
   "id": "confused-bikini",
   "metadata": {},
   "outputs": [],
   "source": [
    "eccentric = bb.RigidBody(r\"C:\\Users\\Elijah\\Documents\\PrinterAssembly\\LowPoly\\elbow_eccentric.stl\", name=\"Eccentric\", units='cm')"
   ]
  },
  {
   "cell_type": "code",
   "execution_count": 8,
   "id": "engaging-loading",
   "metadata": {},
   "outputs": [],
   "source": [
    "assm.add(eccentric)"
   ]
  },
  {
   "cell_type": "code",
   "execution_count": 9,
   "id": "economic-saturday",
   "metadata": {},
   "outputs": [],
   "source": [
    "eccentric.rotate_from_euler('y', 90, degrees=True)"
   ]
  },
  {
   "cell_type": "code",
   "execution_count": 10,
   "id": "natural-lightning",
   "metadata": {},
   "outputs": [],
   "source": [
    "eccentric.translate([-0.5, 0.7, 2+0.375+0.375])"
   ]
  },
  {
   "cell_type": "code",
   "execution_count": 11,
   "id": "linear-accessory",
   "metadata": {},
   "outputs": [
    {
     "data": {
      "application/vnd.jupyter.widget-view+json": {
       "model_id": "b883a0494eac45c9b71e7e3ec9908a74",
       "version_major": 2,
       "version_minor": 0
      },
      "text/plain": [
       "HBox(children=(Tree(nodes=(Frame(icon='crosshairs', name='Origin', nodes=(Axis(icon='line', name='x-axis', ope…"
      ]
     },
     "metadata": {},
     "output_type": "display_data"
    }
   ],
   "source": [
    "assm2 = bb.CSYS()\n",
    "assm2.ax.set_xlim([-10, 10])\n",
    "assm2.ax.set_ylim([-10, 10])\n",
    "assm2.ax.set_zlim([-10,10])\n",
    "assm2.plot()"
   ]
  },
  {
   "cell_type": "code",
   "execution_count": 12,
   "id": "earned-sleeping",
   "metadata": {},
   "outputs": [],
   "source": [
    "whisker = bb.RigidBody(r\"C:\\Users\\Elijah\\Documents\\PrinterAssembly\\LowPoly\\whisker.stl\", name=\"Whisker\", units='cm')\n",
    "assm2.add(whisker)"
   ]
  },
  {
   "cell_type": "code",
   "execution_count": 13,
   "id": "committed-hospital",
   "metadata": {},
   "outputs": [],
   "source": [
    "whisker.rotate_from_euler('xz', [-90,90], degrees=True)"
   ]
  },
  {
   "cell_type": "code",
   "execution_count": 14,
   "id": "parliamentary-protest",
   "metadata": {},
   "outputs": [],
   "source": [
    "whisk_elbow = bb.RigidBody(r\"C:\\Users\\Elijah\\Documents\\PrinterAssembly\\LowPoly\\whisker_elbow.stl\", name=\"WhiskerElbow\", units='cm')\n",
    "assm2.add(whisk_elbow)"
   ]
  },
  {
   "cell_type": "code",
   "execution_count": 15,
   "id": "regional-bobby",
   "metadata": {},
   "outputs": [],
   "source": [
    "whisk_elbow.rotate_from_euler('yz', [-90,180], degrees=True)"
   ]
  },
  {
   "cell_type": "code",
   "execution_count": 16,
   "id": "reserved-jewel",
   "metadata": {},
   "outputs": [],
   "source": [
    "whisk_elbow.translate([0,2,0.26])"
   ]
  },
  {
   "cell_type": "code",
   "execution_count": 17,
   "id": "permanent-jewel",
   "metadata": {},
   "outputs": [],
   "source": [
    "whisk_joint = bb.Frame(name='WhiskerJoint')\n",
    "assm2.add(whisk_joint)\n",
    "whisk_joint.translate([2.5, -1.5, -0.19])"
   ]
  },
  {
   "cell_type": "code",
   "execution_count": 18,
   "id": "breeding-disaster",
   "metadata": {},
   "outputs": [],
   "source": [
    "whisk_M = bb.Frame(name='WhiskerM')\n",
    "assm2.add(whisk_M)\n",
    "whisk_M.translate([2.5, 46.231+1.5, 0.902-1])"
   ]
  },
  {
   "cell_type": "code",
   "execution_count": 19,
   "id": "promotional-pasta",
   "metadata": {},
   "outputs": [],
   "source": [
    "whisk_collision = bb.Frame(name='Collision')\n",
    "assm2.add(whisk_collision)\n",
    "whisk_collision.translate([2.5, 46.231/2, 0])"
   ]
  },
  {
   "cell_type": "code",
   "execution_count": 20,
   "id": "experimental-theta",
   "metadata": {},
   "outputs": [],
   "source": [
    "# assm2.ax.set_ylim([40, 60])"
   ]
  },
  {
   "cell_type": "code",
   "execution_count": 21,
   "id": "adapted-fishing",
   "metadata": {},
   "outputs": [],
   "source": [
    "whisker_assm = bb.RigidCollection(name='WhiskerAssm')\n",
    "for body in [whisker, whisk_elbow, whisk_joint, whisk_M, whisk_collision]:\n",
    "    whisker_assm.add(body)\n",
    "    assm2.tree.remove_node(body)\n",
    "\n",
    "whisker_assm.bind(assm2)\n",
    "assm2.tree.add_node(whisker_assm)"
   ]
  },
  {
   "cell_type": "code",
   "execution_count": 22,
   "id": "curious-weekend",
   "metadata": {},
   "outputs": [
    {
     "data": {
      "application/vnd.jupyter.widget-view+json": {
       "model_id": "5e4c6e66bcfd4cc2b58df2b30f7024f8",
       "version_major": 2,
       "version_minor": 0
      },
      "text/plain": [
       "HBox(children=(Tree(nodes=(Frame(icon='crosshairs', name='Origin', nodes=(Axis(icon='line', name='x-axis', ope…"
      ]
     },
     "metadata": {},
     "output_type": "display_data"
    }
   ],
   "source": [
    "assm.plot()"
   ]
  },
  {
   "cell_type": "code",
   "execution_count": 23,
   "id": "compound-spelling",
   "metadata": {},
   "outputs": [],
   "source": [
    "assm.add(whisker_assm)"
   ]
  },
  {
   "cell_type": "code",
   "execution_count": 24,
   "id": "consistent-flavor",
   "metadata": {},
   "outputs": [],
   "source": [
    "whisker_assm.update()"
   ]
  },
  {
   "cell_type": "code",
   "execution_count": 25,
   "id": "moderate-portable",
   "metadata": {},
   "outputs": [],
   "source": [
    "whisker_assm.translate([-2.5, 0.7+1.5, 2+0.375+0.375+0.19])"
   ]
  },
  {
   "cell_type": "code",
   "execution_count": 26,
   "id": "present-macedonia",
   "metadata": {},
   "outputs": [
    {
     "data": {
      "application/vnd.jupyter.widget-view+json": {
       "model_id": "7ceeaf8ecbf5468ea65c39373ec92cec",
       "version_major": 2,
       "version_minor": 0
      },
      "text/plain": [
       "HBox(children=(Tree(nodes=(Frame(icon='crosshairs', name='Origin', nodes=(Axis(icon='line', name='x-axis', ope…"
      ]
     },
     "metadata": {},
     "output_type": "display_data"
    }
   ],
   "source": [
    "assm3 = bb.CSYS()\n",
    "assm3.ax.set_xlim([-10, 10])\n",
    "assm3.ax.set_ylim([-10, 10])\n",
    "assm3.ax.set_zlim([-10,10])\n",
    "assm3.plot()"
   ]
  },
  {
   "cell_type": "code",
   "execution_count": 27,
   "id": "honest-parade",
   "metadata": {},
   "outputs": [],
   "source": [
    "antenna = bb.RigidBody(r\"C:\\Users\\Elijah\\Documents\\PrinterAssembly\\LowPoly\\antenna.stl\", name=\"Antenna\", units='cm')\n",
    "assm3.add(antenna)"
   ]
  },
  {
   "cell_type": "code",
   "execution_count": 28,
   "id": "insured-newton",
   "metadata": {},
   "outputs": [],
   "source": [
    "antenna_assm = bb.RigidCollection(name='AntennaAssm')\n",
    "for body in [antenna]:\n",
    "    antenna_assm.add(body)\n",
    "    assm3.tree.remove_node(body)\n",
    "\n",
    "antenna_assm.bind(assm3)\n",
    "assm3.tree.add_node(antenna_assm)"
   ]
  },
  {
   "cell_type": "code",
   "execution_count": 29,
   "id": "nominated-appraisal",
   "metadata": {},
   "outputs": [],
   "source": [
    "antenna_joint = bb.Frame(name='AntennaJoint')\n",
    "antenna_assm.add(antenna_joint)\n",
    "antenna_joint.translate([-3 + 0.28, 1.464, 0])"
   ]
  },
  {
   "cell_type": "code",
   "execution_count": 30,
   "id": "robust-correction",
   "metadata": {},
   "outputs": [],
   "source": [
    "antenna_M = bb.Frame(name='AntennaM')\n",
    "antenna_assm.add(antenna_M)\n",
    "antenna_M.translate([-3 + 0.28, 45.581+1.464+1.132, 0])"
   ]
  },
  {
   "cell_type": "code",
   "execution_count": 31,
   "id": "equivalent-omaha",
   "metadata": {},
   "outputs": [
    {
     "data": {
      "application/vnd.jupyter.widget-view+json": {
       "model_id": "222681ad25f64c449632cdef4fa4aeae",
       "version_major": 2,
       "version_minor": 0
      },
      "text/plain": [
       "HBox(children=(Tree(nodes=(Frame(icon='crosshairs', name='Origin', nodes=(Axis(icon='line', name='x-axis', ope…"
      ]
     },
     "metadata": {},
     "output_type": "display_data"
    }
   ],
   "source": [
    "assm.plot()"
   ]
  },
  {
   "cell_type": "code",
   "execution_count": 32,
   "id": "fixed-catalyst",
   "metadata": {},
   "outputs": [],
   "source": [
    "assm.add(antenna_assm)"
   ]
  },
  {
   "cell_type": "code",
   "execution_count": 33,
   "id": "attractive-winning",
   "metadata": {},
   "outputs": [],
   "source": [
    "antenna_assm.update()"
   ]
  },
  {
   "cell_type": "code",
   "execution_count": 34,
   "id": "three-richmond",
   "metadata": {},
   "outputs": [],
   "source": [
    "antenna_assm.rotate_from_euler('x', 90, degrees=True)"
   ]
  },
  {
   "cell_type": "code",
   "execution_count": 35,
   "id": "viral-manner",
   "metadata": {},
   "outputs": [],
   "source": [
    "antenna_assm.translate(whisk_joint.tf[0:3,3] - antenna_joint.tf[0:3,3])"
   ]
  },
  {
   "cell_type": "code",
   "execution_count": 36,
   "id": "cellular-bathroom",
   "metadata": {},
   "outputs": [],
   "source": [
    "antenna_assm.translate([0,0,-0.375])"
   ]
  },
  {
   "cell_type": "code",
   "execution_count": 37,
   "id": "ranging-console",
   "metadata": {},
   "outputs": [],
   "source": [
    "import numpy as np\n",
    "from scipy.spatial.transform import Rotation\n",
    "\n",
    "whisk_vec = whisk_M.tf[1:3,3] - whisk_joint.tf[1:3,3]\n",
    "R = Rotation.from_euler('x', 90-42.16, degrees=True) # from the antenna\n",
    "loc = R.as_matrix() @ np.array([0, whisk_vec[0], whisk_vec[1]])"
   ]
  },
  {
   "cell_type": "code",
   "execution_count": 38,
   "id": "blocked-liberal",
   "metadata": {},
   "outputs": [],
   "source": [
    "T=np.eye(4)\n",
    "T[0:3,0:3] = R.as_matrix()\n",
    "T[0:3,3] = loc + whisk_joint.tf[0:3, 3]\n",
    "\n",
    "rel_pose = whisk_M.inv_tf @ whisker_assm.tf\n",
    "\n",
    "newT = T @ rel_pose\n",
    "whisker_assm.tf = newT.copy()\n",
    "whisker_assm.update()"
   ]
  },
  {
   "cell_type": "code",
   "execution_count": 39,
   "id": "disturbed-ancient",
   "metadata": {},
   "outputs": [
    {
     "data": {
      "text/plain": [
       "(-100.0, 100.0)"
      ]
     },
     "execution_count": 39,
     "metadata": {},
     "output_type": "execute_result"
    }
   ],
   "source": [
    "assm.ax.set_xlim([-100, 100])\n",
    "assm.ax.set_ylim([-100, 100])\n",
    "assm.ax.set_zlim([-100,100])"
   ]
  },
  {
   "cell_type": "markdown",
   "id": "downtown-provincial",
   "metadata": {},
   "source": [
    "Save to file for later use"
   ]
  },
  {
   "cell_type": "code",
   "execution_count": 40,
   "id": "quiet-curtis",
   "metadata": {},
   "outputs": [],
   "source": [
    "full_assm = bb.RigidCollection(name='ForearmAsm')\n",
    "for body in [forearm_assm, whisker_assm, antenna_assm]:\n",
    "    full_assm.add(body)\n",
    "full_assm.to_json('Forearm')"
   ]
  },
  {
   "cell_type": "code",
   "execution_count": null,
   "id": "cosmetic-worker",
   "metadata": {},
   "outputs": [],
   "source": []
  }
 ],
 "metadata": {
  "kernelspec": {
   "display_name": "bumblebee-dev",
   "language": "python",
   "name": "bumblebee-dev"
  },
  "language_info": {
   "codemirror_mode": {
    "name": "ipython",
    "version": 3
   },
   "file_extension": ".py",
   "mimetype": "text/x-python",
   "name": "python",
   "nbconvert_exporter": "python",
   "pygments_lexer": "ipython3",
   "version": "3.7.9"
  }
 },
 "nbformat": 4,
 "nbformat_minor": 5
}

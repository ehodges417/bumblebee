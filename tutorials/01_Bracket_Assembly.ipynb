{
 "cells": [
  {
   "cell_type": "markdown",
   "id": "fixed-singapore",
   "metadata": {},
   "source": [
    "# Bracket Assembly"
   ]
  },
  {
   "cell_type": "markdown",
   "id": "quarterly-mistake",
   "metadata": {},
   "source": [
    "First create an empty coordinate system using bumblebee.CSYS"
   ]
  },
  {
   "cell_type": "code",
   "execution_count": 1,
   "id": "residential-layout",
   "metadata": {},
   "outputs": [],
   "source": [
    "import bumblebee as bb"
   ]
  },
  {
   "cell_type": "code",
   "execution_count": 2,
   "id": "parental-disclosure",
   "metadata": {},
   "outputs": [
    {
     "name": "stdout",
     "output_type": "stream",
     "text": [
      "here\n"
     ]
    },
    {
     "data": {
      "application/vnd.jupyter.widget-view+json": {
       "model_id": "4a494d797ab047bab2ecc949f81bf9a4",
       "version_major": 2,
       "version_minor": 0
      },
      "text/plain": [
       "HBox(children=(Tree(nodes=(Frame(icon='crosshairs', name='Origin', nodes=(Axis(icon='line', name='x-axis', ope…"
      ]
     },
     "metadata": {},
     "output_type": "display_data"
    }
   ],
   "source": [
    "assm = bb.CSYS()\n",
    "assm.ax.set_xlim([-2,2])\n",
    "assm.ax.set_ylim([-2,2])\n",
    "assm.ax.set_zlim([-2,2])\n",
    "assm.plot()"
   ]
  },
  {
   "cell_type": "markdown",
   "id": "reported-identification",
   "metadata": {},
   "source": [
    "Import the bracket and ball joint (from stl) as RigidBody objects and add them to the plot."
   ]
  },
  {
   "cell_type": "code",
   "execution_count": 3,
   "id": "chief-grammar",
   "metadata": {},
   "outputs": [],
   "source": [
    "bracket = bb.RigidBody(r\"C:\\Users\\Elijah\\Documents\\PrinterAssembly\\Stewart\\LowPoly\\Bracket.stl\", name=\"Bracket\", units='cm')"
   ]
  },
  {
   "cell_type": "code",
   "execution_count": 4,
   "id": "smooth-accused",
   "metadata": {},
   "outputs": [
    {
     "name": "stdout",
     "output_type": "stream",
     "text": [
      "here\n"
     ]
    }
   ],
   "source": [
    "assm.add(bracket)"
   ]
  },
  {
   "cell_type": "code",
   "execution_count": 5,
   "id": "interracial-technique",
   "metadata": {},
   "outputs": [],
   "source": [
    "ball = bb.RigidBody(r\"C:\\Users\\Elijah\\Documents\\PrinterAssembly\\Stewart\\LowPoly\\Ball.stl\", name=\"Ball\", units='cm')"
   ]
  },
  {
   "cell_type": "code",
   "execution_count": 6,
   "id": "ruled-metropolitan",
   "metadata": {},
   "outputs": [
    {
     "name": "stdout",
     "output_type": "stream",
     "text": [
      "here\n"
     ]
    }
   ],
   "source": [
    "assm.add(ball)"
   ]
  },
  {
   "cell_type": "markdown",
   "id": "weekly-samuel",
   "metadata": {},
   "source": [
    "Currently these files are not in the correct location or orientation. Use the rotate/translate methods to move the ball joint to the correct location. \\*2.54 modifiers are because the translations are in inches but the stl is in centimeters."
   ]
  },
  {
   "cell_type": "code",
   "execution_count": 7,
   "id": "rational-tolerance",
   "metadata": {},
   "outputs": [
    {
     "name": "stdout",
     "output_type": "stream",
     "text": [
      "here\n"
     ]
    }
   ],
   "source": [
    "ball.rotate_from_euler('y', 90, degrees=True)"
   ]
  },
  {
   "cell_type": "code",
   "execution_count": 8,
   "id": "exciting-temple",
   "metadata": {},
   "outputs": [
    {
     "name": "stdout",
     "output_type": "stream",
     "text": [
      "here\n"
     ]
    }
   ],
   "source": [
    "ball.rotate_from_euler('x', 90, degrees=True)"
   ]
  },
  {
   "cell_type": "code",
   "execution_count": 9,
   "id": "reflected-scope",
   "metadata": {},
   "outputs": [
    {
     "name": "stdout",
     "output_type": "stream",
     "text": [
      "here\n"
     ]
    }
   ],
   "source": [
    "ball.translate([-1,0,-1.875])"
   ]
  },
  {
   "cell_type": "markdown",
   "id": "missing-belgium",
   "metadata": {},
   "source": [
    "Now add a new Frame. We will place this frame at the center of the ball joint to use later for kinematic calculations."
   ]
  },
  {
   "cell_type": "code",
   "execution_count": 10,
   "id": "pressed-operator",
   "metadata": {},
   "outputs": [],
   "source": [
    "joint = bb.Frame(name='Joint')"
   ]
  },
  {
   "cell_type": "code",
   "execution_count": 11,
   "id": "funky-valentine",
   "metadata": {},
   "outputs": [
    {
     "name": "stdout",
     "output_type": "stream",
     "text": [
      "here\n"
     ]
    }
   ],
   "source": [
    "assm.add(joint)"
   ]
  },
  {
   "cell_type": "code",
   "execution_count": 12,
   "id": "lyric-phase",
   "metadata": {},
   "outputs": [
    {
     "name": "stdout",
     "output_type": "stream",
     "text": [
      "here\n"
     ]
    }
   ],
   "source": [
    "joint.translate([-1,0,-0.875])"
   ]
  },
  {
   "cell_type": "markdown",
   "id": "disturbed-damage",
   "metadata": {},
   "source": [
    "This frame is not visible because it is covered entirely by the rigid body. To see the frame you can toggle the visiblity of the ball joint."
   ]
  },
  {
   "cell_type": "code",
   "execution_count": 13,
   "id": "quick-elite",
   "metadata": {},
   "outputs": [],
   "source": [
    "ball.toggle_vis()"
   ]
  },
  {
   "cell_type": "markdown",
   "id": "connected-europe",
   "metadata": {},
   "source": [
    "Retoggle the visibility so you can see the ball again."
   ]
  },
  {
   "cell_type": "code",
   "execution_count": 14,
   "id": "wound-backing",
   "metadata": {},
   "outputs": [],
   "source": [
    "ball.toggle_vis()"
   ]
  },
  {
   "cell_type": "markdown",
   "id": "christian-saver",
   "metadata": {},
   "source": [
    "In order to copy, rotate, and translate this assembly as a group it would be advantageous to group each of the pieces into a single assembly object. This is possible through bumblebee's RigidCollection object. First init an empty assembly object and then add each of the pieces."
   ]
  },
  {
   "cell_type": "code",
   "execution_count": 13,
   "id": "outside-detective",
   "metadata": {},
   "outputs": [],
   "source": [
    "bk_assm = bb.RigidCollection(name='BracketAssm1')"
   ]
  },
  {
   "cell_type": "code",
   "execution_count": 14,
   "id": "accepting-cisco",
   "metadata": {},
   "outputs": [
    {
     "name": "stdout",
     "output_type": "stream",
     "text": [
      "here\n"
     ]
    }
   ],
   "source": [
    "assm.add(bk_assm)"
   ]
  },
  {
   "cell_type": "code",
   "execution_count": 15,
   "id": "rising-accused",
   "metadata": {},
   "outputs": [],
   "source": [
    "for body in [bracket, ball, joint]:\n",
    "    bk_assm.add(body)\n",
    "    assm.tree.remove_node(body)"
   ]
  },
  {
   "cell_type": "code",
   "execution_count": 16,
   "id": "manual-coordination",
   "metadata": {},
   "outputs": [],
   "source": [
    "bk_assm.update()"
   ]
  },
  {
   "cell_type": "markdown",
   "id": "photographic-sunrise",
   "metadata": {},
   "source": [
    "Finally, we can save this bracket assembly so that we can open and reference it later."
   ]
  },
  {
   "cell_type": "code",
   "execution_count": 17,
   "id": "medical-backing",
   "metadata": {},
   "outputs": [],
   "source": [
    "bk_assm.to_json('BracketAssm')"
   ]
  },
  {
   "cell_type": "code",
   "execution_count": null,
   "id": "polar-hollow",
   "metadata": {},
   "outputs": [],
   "source": []
  }
 ],
 "metadata": {
  "kernelspec": {
   "display_name": "bumblebee-dev",
   "language": "python",
   "name": "bumblebee-dev"
  },
  "language_info": {
   "codemirror_mode": {
    "name": "ipython",
    "version": 3
   },
   "file_extension": ".py",
   "mimetype": "text/x-python",
   "name": "python",
   "nbconvert_exporter": "python",
   "pygments_lexer": "ipython3",
   "version": "3.7.9"
  }
 },
 "nbformat": 4,
 "nbformat_minor": 5
}

{
 "cells": [
  {
   "cell_type": "markdown",
   "id": "bearing-purchase",
   "metadata": {},
   "source": [
    "# Test Bed Sliders"
   ]
  },
  {
   "cell_type": "markdown",
   "id": "patient-unknown",
   "metadata": {},
   "source": [
    "Import the test bed from the previous module into a new coordinate system"
   ]
  },
  {
   "cell_type": "code",
   "execution_count": 1,
   "id": "imperial-ethernet",
   "metadata": {},
   "outputs": [],
   "source": [
    "import bumblebee as bb\n",
    "\n",
    "app = bb.Application()\n",
    "assm = app.csys\n",
    "assm.ax.set_xlim([-20,20])\n",
    "assm.ax.set_ylim([-20,20])\n",
    "assm.ax.set_zlim([-10,15])\n",
    "assm.plot()\n",
    "\n",
    "test_bed = bb.RigidCollection.from_json('TestBedAssm.json')\n",
    "assm.add(test_bed)"
   ]
  },
  {
   "cell_type": "markdown",
   "id": "charged-serbia",
   "metadata": {},
   "source": [
    "### Set up body variables"
   ]
  },
  {
   "cell_type": "markdown",
   "id": "invalid-registrar",
   "metadata": {},
   "source": [
    "Pull out useful bodies from the part tree so that they can be called by name. \n",
    "\n",
    "`TODO make a method to find the node by name so that this process isn't so clunky.`"
   ]
  },
  {
   "cell_type": "code",
   "execution_count": 2,
   "id": "current-development",
   "metadata": {},
   "outputs": [],
   "source": [
    "arm=None\n",
    "slide_assm=None\n",
    "gantry=None\n",
    "stewart=None\n",
    "bplate=None\n",
    "tplate=None\n",
    "\n",
    "for node in test_bed.nodes:\n",
    "    arm = node if node.name == 'Arm' else arm\n",
    "    slide_assm = node if node.name == 'SlideAssm' else slide_assm\n",
    "    \n",
    "for node in slide_assm.nodes:\n",
    "    gantry = node if node.name == 'Gantry' else gantry\n",
    "    stewart = node if node.name == 'StewartAssm' else stewart\n",
    "    \n",
    "for node in stewart.nodes:\n",
    "    bplate = node if node.name == 'BottomPlateAssm' else bplate\n",
    "    tplate = node if node.name == 'TopPlateAssm' else tplate"
   ]
  },
  {
   "cell_type": "markdown",
   "id": "israeli-implement",
   "metadata": {},
   "source": [
    "### Set up Jupyter Sliders"
   ]
  },
  {
   "cell_type": "code",
   "execution_count": 3,
   "id": "compound-speech",
   "metadata": {},
   "outputs": [],
   "source": [
    "import ipywidgets as widgets"
   ]
  },
  {
   "cell_type": "code",
   "execution_count": 4,
   "id": "olive-aaron",
   "metadata": {},
   "outputs": [],
   "source": [
    "gantry, stewx, stewy, stewz, rotx, roty, rotz = [widgets.FloatSlider(\n",
    "    value=0,\n",
    "    min=-10.0,\n",
    "    max=10.0,\n",
    "    step=0.1,\n",
    "    description=f'{desc}:',\n",
    "    orientation='horizontal',\n",
    "    readout=True,\n",
    "    readout_format='.1f',\n",
    ") for desc in ['Gantry', 'StewX', 'StewY', 'StewZ', 'RotX', 'RotY', 'RotZ']]"
   ]
  },
  {
   "cell_type": "code",
   "execution_count": 5,
   "id": "mounted-junction",
   "metadata": {
    "scrolled": true
   },
   "outputs": [
    {
     "data": {
      "application/vnd.jupyter.widget-view+json": {
       "model_id": "91408dd9a00343ae90b0c79d10b50e14",
       "version_major": 2,
       "version_minor": 0
      },
      "text/plain": [
       "VBox(children=(HBox(children=(Tree(nodes=(Frame(icon='crosshairs', name='Origin', nodes=(Axis(icon='line', nam…"
      ]
     },
     "metadata": {},
     "output_type": "display_data"
    }
   ],
   "source": [
    "widgets.VBox([app.csys.plot(), gantry, stewx, stewy, stewz, rotx, roty, rotz])"
   ]
  },
  {
   "cell_type": "markdown",
   "id": "international-piece",
   "metadata": {},
   "source": [
    "### Stewart Kinematics"
   ]
  },
  {
   "cell_type": "code",
   "execution_count": 6,
   "id": "italic-christopher",
   "metadata": {},
   "outputs": [],
   "source": [
    "bottom_joints = []\n",
    "for node in bplate.nodes:\n",
    "    if \"Bracket\" in node.name:\n",
    "        for subnode in node.nodes:\n",
    "            if \"Joint\" in subnode.name:\n",
    "                bottom_joints.append(subnode)"
   ]
  },
  {
   "cell_type": "code",
   "execution_count": 7,
   "id": "palestinian-blood",
   "metadata": {},
   "outputs": [],
   "source": [
    "top_joints = []\n",
    "for node in tplate.nodes:\n",
    "    if \"Bracket\" in node.name:\n",
    "        for subnode in node.nodes:\n",
    "            if \"Joint\" in subnode.name:\n",
    "                top_joints.append(subnode)   "
   ]
  },
  {
   "cell_type": "code",
   "execution_count": 8,
   "id": "necessary-vatican",
   "metadata": {},
   "outputs": [],
   "source": [
    "import numpy as np\n",
    "links = []\n",
    "for bj, tj in zip([0,1,2,3,4,5],[2,5,0,3,4,1]):\n",
    "    start = top_joints[tj].tf[0:3,3]\n",
    "    end = bottom_joints[bj].tf[0:3,3]\n",
    "    \n",
    "    comb = np.vstack((start,end)).T\n",
    "    \n",
    "    link, = assm.ax.plot(*comb, 'r')\n",
    "    links.append(link)"
   ]
  },
  {
   "cell_type": "markdown",
   "id": "steady-significance",
   "metadata": {},
   "source": [
    "### Implement Slider Updates"
   ]
  },
  {
   "cell_type": "code",
   "execution_count": 9,
   "id": "better-purse",
   "metadata": {},
   "outputs": [],
   "source": [
    "def update_links():\n",
    "    for i, (bj, tj) in enumerate(zip([0,1,2,3,4,5],[2,5,0,3,4,1])):\n",
    "        start = top_joints[tj].tf[0:3,3]\n",
    "        end = bottom_joints[bj].tf[0:3,3]\n",
    "\n",
    "        comb = np.vstack((start,end)).T\n",
    "\n",
    "        links[i]._verts3d = (comb[0], comb[1], comb[2])\n",
    "\n",
    "def update_gantry(change):\n",
    "    dx =change.new-change.old\n",
    "    slide_assm.translate([dx,0,0])\n",
    "    update_links()\n",
    "    \n",
    "def update_stewx(change):\n",
    "    dx =change.new-change.old\n",
    "    bplate.translate([dx,0,0])\n",
    "    update_links()\n",
    "    \n",
    "def update_stewy(change):\n",
    "    dy =change.new-change.old\n",
    "    bplate.translate([0,dy,0])\n",
    "    update_links()\n",
    "    \n",
    "def update_stewz(change):\n",
    "    dz =change.new-change.old\n",
    "    bplate.translate([0,0,dz])\n",
    "    update_links()\n",
    "    \n",
    "def update_rotx(change):\n",
    "    dx =change.new-change.old\n",
    "    bplate.rotate_from_euler('x', dx, degrees=True)\n",
    "    update_links()\n",
    "    \n",
    "def update_roty(change):\n",
    "    dy =change.new-change.old\n",
    "    bplate.rotate_from_euler('y', dy, degrees=True)\n",
    "    update_links()\n",
    "    \n",
    "def update_rotz(change):\n",
    "    dz =change.new-change.old\n",
    "    bplate.rotate_from_euler('z', dz, degrees=True)\n",
    "    update_links()"
   ]
  },
  {
   "cell_type": "code",
   "execution_count": 10,
   "id": "controversial-ukraine",
   "metadata": {},
   "outputs": [],
   "source": [
    "gantry.observe(update_gantry, names='value')\n",
    "stewx.observe(update_stewx, names='value')\n",
    "stewy.observe(update_stewy, names='value')\n",
    "stewz.observe(update_stewz, names='value')\n",
    "rotx.observe(update_rotx, names='value')\n",
    "roty.observe(update_roty, names='value')\n",
    "rotz.observe(update_rotz, names='value')"
   ]
  },
  {
   "cell_type": "code",
   "execution_count": 11,
   "id": "adopted-knock",
   "metadata": {},
   "outputs": [],
   "source": [
    "# stewart.toggle_vis()\n",
    "# for joint in top_joints+bottom_joints:\n",
    "#     joint.toggle_vis()"
   ]
  }
 ],
 "metadata": {
  "kernelspec": {
   "display_name": "bumblebee-dev",
   "language": "python",
   "name": "bumblebee-dev"
  },
  "language_info": {
   "codemirror_mode": {
    "name": "ipython",
    "version": 3
   },
   "file_extension": ".py",
   "mimetype": "text/x-python",
   "name": "python",
   "nbconvert_exporter": "python",
   "pygments_lexer": "ipython3",
   "version": "3.7.9"
  }
 },
 "nbformat": 4,
 "nbformat_minor": 5
}

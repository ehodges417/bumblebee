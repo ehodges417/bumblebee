{
 "cells": [
  {
   "cell_type": "markdown",
   "id": "specific-leeds",
   "metadata": {},
   "source": [
    "# Base Assembly"
   ]
  },
  {
   "cell_type": "markdown",
   "id": "hairy-harbor",
   "metadata": {},
   "source": [
    "Create a scene with CSYS"
   ]
  },
  {
   "cell_type": "code",
   "execution_count": 1,
   "id": "global-wrist",
   "metadata": {},
   "outputs": [],
   "source": [
    "import bumblebee as bb"
   ]
  },
  {
   "cell_type": "code",
   "execution_count": 2,
   "id": "australian-productivity",
   "metadata": {},
   "outputs": [
    {
     "data": {
      "application/vnd.jupyter.widget-view+json": {
       "model_id": "0664e68ec07b43bc9e7d8cae049a4f77",
       "version_major": 2,
       "version_minor": 0
      },
      "text/plain": [
       "HBox(children=(Tree(nodes=(Frame(icon='crosshairs', name='Origin', nodes=(Axis(icon='line', name='x-axis', ope…"
      ]
     },
     "metadata": {},
     "output_type": "display_data"
    }
   ],
   "source": [
    "assm = bb.CSYS()\n",
    "def home_view():\n",
    "    assm.ax.set_xlim([-125, 125])\n",
    "    assm.ax.set_ylim([-250, 0])\n",
    "    assm.ax.set_zlim([0,250])\n",
    "home_view()\n",
    "assm.plot()"
   ]
  },
  {
   "cell_type": "code",
   "execution_count": 3,
   "id": "blocked-beauty",
   "metadata": {},
   "outputs": [],
   "source": [
    "starbase = bb.RigidBody(r\"C:\\Users\\Elijah\\Documents\\PrinterAssembly\\LowPoly\\StarBase.stl\", name=\"StarBase\", units='cm')\n",
    "assm.add(starbase)"
   ]
  },
  {
   "cell_type": "code",
   "execution_count": 4,
   "id": "becoming-mailing",
   "metadata": {},
   "outputs": [],
   "source": [
    "starbase.rotate_from_euler('xz', [90,-90], degrees=True)"
   ]
  },
  {
   "cell_type": "code",
   "execution_count": 5,
   "id": "private-principal",
   "metadata": {},
   "outputs": [],
   "source": [
    "plate = bb.RigidBody(r\"C:\\Users\\Elijah\\Documents\\PrinterAssembly\\LowPoly\\StarBasePlate.stl\", name=\"StarBasePlate\", units='cm')\n",
    "assm.add(plate)"
   ]
  },
  {
   "cell_type": "code",
   "execution_count": 6,
   "id": "russian-holiday",
   "metadata": {},
   "outputs": [],
   "source": [
    "plate.rotate_from_euler('x', 90, degrees=True)"
   ]
  },
  {
   "cell_type": "code",
   "execution_count": 7,
   "id": "muslim-beast",
   "metadata": {},
   "outputs": [],
   "source": [
    "plate.translate([0,0,10.33])"
   ]
  },
  {
   "cell_type": "code",
   "execution_count": 8,
   "id": "drawn-playlist",
   "metadata": {},
   "outputs": [],
   "source": [
    "pedestal = bb.RigidBody(r\"C:\\Users\\Elijah\\Documents\\PrinterAssembly\\LowPoly\\Pedestal.stl\", name=\"Pedestal\", units='cm')\n",
    "assm.add(pedestal)"
   ]
  },
  {
   "cell_type": "code",
   "execution_count": 9,
   "id": "better-person",
   "metadata": {},
   "outputs": [],
   "source": [
    "pedestal.rotate_from_euler('x', 90, degrees=True)\n",
    "pedestal.translate([0,0,10.33+1])"
   ]
  },
  {
   "cell_type": "code",
   "execution_count": 10,
   "id": "black-twenty",
   "metadata": {},
   "outputs": [],
   "source": [
    "base_assm = bb.RigidCollection(name='BaseAsm')\n",
    "for body in [starbase, plate, pedestal]:\n",
    "    base_assm.add(body)\n",
    "base_assm.to_json('Base')"
   ]
  },
  {
   "cell_type": "code",
   "execution_count": null,
   "id": "classified-embassy",
   "metadata": {},
   "outputs": [],
   "source": []
  }
 ],
 "metadata": {
  "kernelspec": {
   "display_name": "bumblebee-dev",
   "language": "python",
   "name": "bumblebee-dev"
  },
  "language_info": {
   "codemirror_mode": {
    "name": "ipython",
    "version": 3
   },
   "file_extension": ".py",
   "mimetype": "text/x-python",
   "name": "python",
   "nbconvert_exporter": "python",
   "pygments_lexer": "ipython3",
   "version": "3.7.9"
  }
 },
 "nbformat": 4,
 "nbformat_minor": 5
}

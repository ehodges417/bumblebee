{
 "cells": [
  {
   "cell_type": "markdown",
   "id": "governing-sleeping",
   "metadata": {},
   "source": [
    "# LSMS Assembly"
   ]
  },
  {
   "cell_type": "markdown",
   "id": "limited-protest",
   "metadata": {},
   "source": [
    "Create a scene with CSYS"
   ]
  },
  {
   "cell_type": "code",
   "execution_count": 1,
   "id": "spare-sending",
   "metadata": {},
   "outputs": [],
   "source": [
    "import bumblebee as bb"
   ]
  },
  {
   "cell_type": "code",
   "execution_count": 2,
   "id": "patient-parliament",
   "metadata": {},
   "outputs": [
    {
     "data": {
      "application/vnd.jupyter.widget-view+json": {
       "model_id": "d8a8e682743a4155b4fe301dd20c16ea",
       "version_major": 2,
       "version_minor": 0
      },
      "text/plain": [
       "HBox(children=(Tree(nodes=(Frame(icon='crosshairs', name='Origin', nodes=(Axis(icon='line', name='x-axis', ope…"
      ]
     },
     "metadata": {},
     "output_type": "display_data"
    }
   ],
   "source": [
    "assm = bb.CSYS()\n",
    "def home_view():\n",
    "    assm.ax.set_xlim([-125, 125])\n",
    "    assm.ax.set_ylim([-250, 0])\n",
    "    assm.ax.set_zlim([0,250])\n",
    "home_view()\n",
    "assm.plot()"
   ]
  },
  {
   "cell_type": "markdown",
   "id": "earlier-sentence",
   "metadata": {},
   "source": [
    "Add the kingpost"
   ]
  },
  {
   "cell_type": "code",
   "execution_count": 3,
   "id": "neither-satellite",
   "metadata": {},
   "outputs": [],
   "source": [
    "kingpost = bb.RigidCollection.from_json('Kingpost.json')\n",
    "assm.add(kingpost)"
   ]
  },
  {
   "cell_type": "markdown",
   "id": "martial-judge",
   "metadata": {},
   "source": [
    "Add the arm and forearm"
   ]
  },
  {
   "cell_type": "code",
   "execution_count": 4,
   "id": "greenhouse-barbados",
   "metadata": {},
   "outputs": [],
   "source": [
    "arm = bb.RigidCollection.from_json('Arm.json')\n",
    "assm.add(arm)"
   ]
  },
  {
   "cell_type": "code",
   "execution_count": 5,
   "id": "opposed-louisiana",
   "metadata": {},
   "outputs": [],
   "source": [
    "forearm = bb.RigidCollection.from_json('Forearm.json')\n",
    "assm.add(forearm)\n",
    "forearm.translate([0,-140.105-7.25-2.7,0])"
   ]
  },
  {
   "cell_type": "code",
   "execution_count": 6,
   "id": "narrow-desire",
   "metadata": {},
   "outputs": [],
   "source": [
    "forearm.translate([0,-2,5.75+140.387+7.607+1.75])\n",
    "arm.translate([0,-2,5.75+140.387+7.607+1.75])"
   ]
  },
  {
   "cell_type": "code",
   "execution_count": 7,
   "id": "lined-ending",
   "metadata": {},
   "outputs": [],
   "source": [
    "base = bb.RigidCollection.from_json('Base.json')\n",
    "assm.add(base)\n",
    "base.translate([0,0,-10.33-1-12])"
   ]
  },
  {
   "cell_type": "code",
   "execution_count": 8,
   "id": "infectious-drink",
   "metadata": {},
   "outputs": [],
   "source": [
    "slide_assm = bb.RigidCollection.from_json('SlideAssm.json')\n",
    "assm.add(slide_assm)"
   ]
  },
  {
   "cell_type": "code",
   "execution_count": 9,
   "id": "biological-startup",
   "metadata": {},
   "outputs": [],
   "source": [
    "slide_assm.translate([0,-140.105-7.25-2.7-20,5.75+140.387+7.607+1.75-15-6.25])"
   ]
  },
  {
   "cell_type": "code",
   "execution_count": 10,
   "id": "outstanding-iraqi",
   "metadata": {},
   "outputs": [],
   "source": [
    "slide_assm.rotate_from_euler('z', 90, degrees=True)"
   ]
  },
  {
   "cell_type": "markdown",
   "id": "blessed-bishop",
   "metadata": {},
   "source": [
    "Save the assembly for later use"
   ]
  },
  {
   "cell_type": "code",
   "execution_count": 11,
   "id": "secondary-sucking",
   "metadata": {},
   "outputs": [],
   "source": [
    "LSMS = bb.RigidCollection(name='LSMS')\n",
    "LSMS.add(kingpost)\n",
    "LSMS.add(arm)\n",
    "LSMS.add(forearm)\n",
    "LSMS.add(base)\n",
    "LSMS.add(slide_assm)\n",
    "LSMS.to_json('LSMS')"
   ]
  },
  {
   "cell_type": "code",
   "execution_count": null,
   "id": "loose-latter",
   "metadata": {},
   "outputs": [],
   "source": []
  }
 ],
 "metadata": {
  "kernelspec": {
   "display_name": "bumblebee-dev",
   "language": "python",
   "name": "bumblebee-dev"
  },
  "language_info": {
   "codemirror_mode": {
    "name": "ipython",
    "version": 3
   },
   "file_extension": ".py",
   "mimetype": "text/x-python",
   "name": "python",
   "nbconvert_exporter": "python",
   "pygments_lexer": "ipython3",
   "version": "3.7.9"
  }
 },
 "nbformat": 4,
 "nbformat_minor": 5
}
